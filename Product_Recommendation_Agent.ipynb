{
  "nbformat": 4,
  "nbformat_minor": 0,
  "metadata": {
    "colab": {
      "provenance": [],
      "authorship_tag": "ABX9TyNknqIUeRDEcyVQV2OmyQ+2",
      "include_colab_link": true
    },
    "kernelspec": {
      "name": "python3",
      "display_name": "Python 3"
    },
    "language_info": {
      "name": "python"
    }
  },
  "cells": [
    {
      "cell_type": "markdown",
      "metadata": {
        "id": "view-in-github",
        "colab_type": "text"
      },
      "source": [
        "<a href=\"https://colab.research.google.com/github/FaiazS/AI-Powered-E-Commerce-Product-Advisor/blob/main/Product_Recommendation_Agent.ipynb\" target=\"_parent\"><img src=\"https://colab.research.google.com/assets/colab-badge.svg\" alt=\"Open In Colab\"/></a>"
      ]
    },
    {
      "cell_type": "code",
      "execution_count": 1,
      "metadata": {
        "id": "1QN48lQOFC1w",
        "colab": {
          "base_uri": "https://localhost:8080/"
        },
        "outputId": "e1e72ce0-4db4-40cf-a526-06ac84f194c3"
      },
      "outputs": [
        {
          "output_type": "stream",
          "name": "stdout",
          "text": [
            "Requirement already satisfied: langchain in /usr/local/lib/python3.11/dist-packages (0.3.26)\n",
            "Requirement already satisfied: langchain-core<1.0.0,>=0.3.66 in /usr/local/lib/python3.11/dist-packages (from langchain) (0.3.67)\n",
            "Requirement already satisfied: langchain-text-splitters<1.0.0,>=0.3.8 in /usr/local/lib/python3.11/dist-packages (from langchain) (0.3.8)\n",
            "Requirement already satisfied: langsmith>=0.1.17 in /usr/local/lib/python3.11/dist-packages (from langchain) (0.4.4)\n",
            "Requirement already satisfied: pydantic<3.0.0,>=2.7.4 in /usr/local/lib/python3.11/dist-packages (from langchain) (2.11.7)\n",
            "Requirement already satisfied: SQLAlchemy<3,>=1.4 in /usr/local/lib/python3.11/dist-packages (from langchain) (2.0.41)\n",
            "Requirement already satisfied: requests<3,>=2 in /usr/local/lib/python3.11/dist-packages (from langchain) (2.32.3)\n",
            "Requirement already satisfied: PyYAML>=5.3 in /usr/local/lib/python3.11/dist-packages (from langchain) (6.0.2)\n",
            "Requirement already satisfied: tenacity!=8.4.0,<10.0.0,>=8.1.0 in /usr/local/lib/python3.11/dist-packages (from langchain-core<1.0.0,>=0.3.66->langchain) (8.5.0)\n",
            "Requirement already satisfied: jsonpatch<2.0,>=1.33 in /usr/local/lib/python3.11/dist-packages (from langchain-core<1.0.0,>=0.3.66->langchain) (1.33)\n",
            "Requirement already satisfied: packaging<25,>=23.2 in /usr/local/lib/python3.11/dist-packages (from langchain-core<1.0.0,>=0.3.66->langchain) (24.2)\n",
            "Requirement already satisfied: typing-extensions>=4.7 in /usr/local/lib/python3.11/dist-packages (from langchain-core<1.0.0,>=0.3.66->langchain) (4.14.0)\n",
            "Requirement already satisfied: httpx<1,>=0.23.0 in /usr/local/lib/python3.11/dist-packages (from langsmith>=0.1.17->langchain) (0.28.1)\n",
            "Requirement already satisfied: orjson<4.0.0,>=3.9.14 in /usr/local/lib/python3.11/dist-packages (from langsmith>=0.1.17->langchain) (3.10.18)\n",
            "Requirement already satisfied: requests-toolbelt<2.0.0,>=1.0.0 in /usr/local/lib/python3.11/dist-packages (from langsmith>=0.1.17->langchain) (1.0.0)\n",
            "Requirement already satisfied: zstandard<0.24.0,>=0.23.0 in /usr/local/lib/python3.11/dist-packages (from langsmith>=0.1.17->langchain) (0.23.0)\n",
            "Requirement already satisfied: annotated-types>=0.6.0 in /usr/local/lib/python3.11/dist-packages (from pydantic<3.0.0,>=2.7.4->langchain) (0.7.0)\n",
            "Requirement already satisfied: pydantic-core==2.33.2 in /usr/local/lib/python3.11/dist-packages (from pydantic<3.0.0,>=2.7.4->langchain) (2.33.2)\n",
            "Requirement already satisfied: typing-inspection>=0.4.0 in /usr/local/lib/python3.11/dist-packages (from pydantic<3.0.0,>=2.7.4->langchain) (0.4.1)\n",
            "Requirement already satisfied: charset-normalizer<4,>=2 in /usr/local/lib/python3.11/dist-packages (from requests<3,>=2->langchain) (3.4.2)\n",
            "Requirement already satisfied: idna<4,>=2.5 in /usr/local/lib/python3.11/dist-packages (from requests<3,>=2->langchain) (3.10)\n",
            "Requirement already satisfied: urllib3<3,>=1.21.1 in /usr/local/lib/python3.11/dist-packages (from requests<3,>=2->langchain) (2.4.0)\n",
            "Requirement already satisfied: certifi>=2017.4.17 in /usr/local/lib/python3.11/dist-packages (from requests<3,>=2->langchain) (2025.6.15)\n",
            "Requirement already satisfied: greenlet>=1 in /usr/local/lib/python3.11/dist-packages (from SQLAlchemy<3,>=1.4->langchain) (3.2.3)\n",
            "Requirement already satisfied: anyio in /usr/local/lib/python3.11/dist-packages (from httpx<1,>=0.23.0->langsmith>=0.1.17->langchain) (4.9.0)\n",
            "Requirement already satisfied: httpcore==1.* in /usr/local/lib/python3.11/dist-packages (from httpx<1,>=0.23.0->langsmith>=0.1.17->langchain) (1.0.9)\n",
            "Requirement already satisfied: h11>=0.16 in /usr/local/lib/python3.11/dist-packages (from httpcore==1.*->httpx<1,>=0.23.0->langsmith>=0.1.17->langchain) (0.16.0)\n",
            "Requirement already satisfied: jsonpointer>=1.9 in /usr/local/lib/python3.11/dist-packages (from jsonpatch<2.0,>=1.33->langchain-core<1.0.0,>=0.3.66->langchain) (3.0.0)\n",
            "Requirement already satisfied: sniffio>=1.1 in /usr/local/lib/python3.11/dist-packages (from anyio->httpx<1,>=0.23.0->langsmith>=0.1.17->langchain) (1.3.1)\n",
            "Collecting langchain-groq\n",
            "  Downloading langchain_groq-0.3.5-py3-none-any.whl.metadata (2.6 kB)\n",
            "Requirement already satisfied: langchain-core<1.0.0,>=0.3.67 in /usr/local/lib/python3.11/dist-packages (from langchain-groq) (0.3.67)\n",
            "Collecting groq<1,>=0.29.0 (from langchain-groq)\n",
            "  Downloading groq-0.29.0-py3-none-any.whl.metadata (16 kB)\n",
            "Requirement already satisfied: anyio<5,>=3.5.0 in /usr/local/lib/python3.11/dist-packages (from groq<1,>=0.29.0->langchain-groq) (4.9.0)\n",
            "Requirement already satisfied: distro<2,>=1.7.0 in /usr/local/lib/python3.11/dist-packages (from groq<1,>=0.29.0->langchain-groq) (1.9.0)\n",
            "Requirement already satisfied: httpx<1,>=0.23.0 in /usr/local/lib/python3.11/dist-packages (from groq<1,>=0.29.0->langchain-groq) (0.28.1)\n",
            "Requirement already satisfied: pydantic<3,>=1.9.0 in /usr/local/lib/python3.11/dist-packages (from groq<1,>=0.29.0->langchain-groq) (2.11.7)\n",
            "Requirement already satisfied: sniffio in /usr/local/lib/python3.11/dist-packages (from groq<1,>=0.29.0->langchain-groq) (1.3.1)\n",
            "Requirement already satisfied: typing-extensions<5,>=4.10 in /usr/local/lib/python3.11/dist-packages (from groq<1,>=0.29.0->langchain-groq) (4.14.0)\n",
            "Requirement already satisfied: langsmith>=0.3.45 in /usr/local/lib/python3.11/dist-packages (from langchain-core<1.0.0,>=0.3.67->langchain-groq) (0.4.4)\n",
            "Requirement already satisfied: tenacity!=8.4.0,<10.0.0,>=8.1.0 in /usr/local/lib/python3.11/dist-packages (from langchain-core<1.0.0,>=0.3.67->langchain-groq) (8.5.0)\n",
            "Requirement already satisfied: jsonpatch<2.0,>=1.33 in /usr/local/lib/python3.11/dist-packages (from langchain-core<1.0.0,>=0.3.67->langchain-groq) (1.33)\n",
            "Requirement already satisfied: PyYAML>=5.3 in /usr/local/lib/python3.11/dist-packages (from langchain-core<1.0.0,>=0.3.67->langchain-groq) (6.0.2)\n",
            "Requirement already satisfied: packaging<25,>=23.2 in /usr/local/lib/python3.11/dist-packages (from langchain-core<1.0.0,>=0.3.67->langchain-groq) (24.2)\n",
            "Requirement already satisfied: idna>=2.8 in /usr/local/lib/python3.11/dist-packages (from anyio<5,>=3.5.0->groq<1,>=0.29.0->langchain-groq) (3.10)\n",
            "Requirement already satisfied: certifi in /usr/local/lib/python3.11/dist-packages (from httpx<1,>=0.23.0->groq<1,>=0.29.0->langchain-groq) (2025.6.15)\n",
            "Requirement already satisfied: httpcore==1.* in /usr/local/lib/python3.11/dist-packages (from httpx<1,>=0.23.0->groq<1,>=0.29.0->langchain-groq) (1.0.9)\n",
            "Requirement already satisfied: h11>=0.16 in /usr/local/lib/python3.11/dist-packages (from httpcore==1.*->httpx<1,>=0.23.0->groq<1,>=0.29.0->langchain-groq) (0.16.0)\n",
            "Requirement already satisfied: jsonpointer>=1.9 in /usr/local/lib/python3.11/dist-packages (from jsonpatch<2.0,>=1.33->langchain-core<1.0.0,>=0.3.67->langchain-groq) (3.0.0)\n",
            "Requirement already satisfied: orjson<4.0.0,>=3.9.14 in /usr/local/lib/python3.11/dist-packages (from langsmith>=0.3.45->langchain-core<1.0.0,>=0.3.67->langchain-groq) (3.10.18)\n",
            "Requirement already satisfied: requests<3,>=2 in /usr/local/lib/python3.11/dist-packages (from langsmith>=0.3.45->langchain-core<1.0.0,>=0.3.67->langchain-groq) (2.32.3)\n",
            "Requirement already satisfied: requests-toolbelt<2.0.0,>=1.0.0 in /usr/local/lib/python3.11/dist-packages (from langsmith>=0.3.45->langchain-core<1.0.0,>=0.3.67->langchain-groq) (1.0.0)\n",
            "Requirement already satisfied: zstandard<0.24.0,>=0.23.0 in /usr/local/lib/python3.11/dist-packages (from langsmith>=0.3.45->langchain-core<1.0.0,>=0.3.67->langchain-groq) (0.23.0)\n",
            "Requirement already satisfied: annotated-types>=0.6.0 in /usr/local/lib/python3.11/dist-packages (from pydantic<3,>=1.9.0->groq<1,>=0.29.0->langchain-groq) (0.7.0)\n",
            "Requirement already satisfied: pydantic-core==2.33.2 in /usr/local/lib/python3.11/dist-packages (from pydantic<3,>=1.9.0->groq<1,>=0.29.0->langchain-groq) (2.33.2)\n",
            "Requirement already satisfied: typing-inspection>=0.4.0 in /usr/local/lib/python3.11/dist-packages (from pydantic<3,>=1.9.0->groq<1,>=0.29.0->langchain-groq) (0.4.1)\n",
            "Requirement already satisfied: charset-normalizer<4,>=2 in /usr/local/lib/python3.11/dist-packages (from requests<3,>=2->langsmith>=0.3.45->langchain-core<1.0.0,>=0.3.67->langchain-groq) (3.4.2)\n",
            "Requirement already satisfied: urllib3<3,>=1.21.1 in /usr/local/lib/python3.11/dist-packages (from requests<3,>=2->langsmith>=0.3.45->langchain-core<1.0.0,>=0.3.67->langchain-groq) (2.4.0)\n",
            "Downloading langchain_groq-0.3.5-py3-none-any.whl (15 kB)\n",
            "Downloading groq-0.29.0-py3-none-any.whl (130 kB)\n",
            "\u001b[2K   \u001b[90m━━━━━━━━━━━━━━━━━━━━━━━━━━━━━━━━━━━━━━━━\u001b[0m \u001b[32m130.8/130.8 kB\u001b[0m \u001b[31m3.8 MB/s\u001b[0m eta \u001b[36m0:00:00\u001b[0m\n",
            "\u001b[?25hInstalling collected packages: groq, langchain-groq\n",
            "Successfully installed groq-0.29.0 langchain-groq-0.3.5\n",
            "Collecting langchain-community\n",
            "  Downloading langchain_community-0.3.27-py3-none-any.whl.metadata (2.9 kB)\n",
            "Requirement already satisfied: langchain-core<1.0.0,>=0.3.66 in /usr/local/lib/python3.11/dist-packages (from langchain-community) (0.3.67)\n",
            "Requirement already satisfied: langchain<1.0.0,>=0.3.26 in /usr/local/lib/python3.11/dist-packages (from langchain-community) (0.3.26)\n",
            "Requirement already satisfied: SQLAlchemy<3,>=1.4 in /usr/local/lib/python3.11/dist-packages (from langchain-community) (2.0.41)\n",
            "Requirement already satisfied: requests<3,>=2 in /usr/local/lib/python3.11/dist-packages (from langchain-community) (2.32.3)\n",
            "Requirement already satisfied: PyYAML>=5.3 in /usr/local/lib/python3.11/dist-packages (from langchain-community) (6.0.2)\n",
            "Requirement already satisfied: aiohttp<4.0.0,>=3.8.3 in /usr/local/lib/python3.11/dist-packages (from langchain-community) (3.11.15)\n",
            "Requirement already satisfied: tenacity!=8.4.0,<10,>=8.1.0 in /usr/local/lib/python3.11/dist-packages (from langchain-community) (8.5.0)\n",
            "Collecting dataclasses-json<0.7,>=0.5.7 (from langchain-community)\n",
            "  Downloading dataclasses_json-0.6.7-py3-none-any.whl.metadata (25 kB)\n",
            "Collecting pydantic-settings<3.0.0,>=2.4.0 (from langchain-community)\n",
            "  Downloading pydantic_settings-2.10.1-py3-none-any.whl.metadata (3.4 kB)\n",
            "Requirement already satisfied: langsmith>=0.1.125 in /usr/local/lib/python3.11/dist-packages (from langchain-community) (0.4.4)\n",
            "Collecting httpx-sse<1.0.0,>=0.4.0 (from langchain-community)\n",
            "  Downloading httpx_sse-0.4.1-py3-none-any.whl.metadata (9.4 kB)\n",
            "Requirement already satisfied: numpy>=1.26.2 in /usr/local/lib/python3.11/dist-packages (from langchain-community) (2.0.2)\n",
            "Requirement already satisfied: aiohappyeyeballs>=2.3.0 in /usr/local/lib/python3.11/dist-packages (from aiohttp<4.0.0,>=3.8.3->langchain-community) (2.6.1)\n",
            "Requirement already satisfied: aiosignal>=1.1.2 in /usr/local/lib/python3.11/dist-packages (from aiohttp<4.0.0,>=3.8.3->langchain-community) (1.3.2)\n",
            "Requirement already satisfied: attrs>=17.3.0 in /usr/local/lib/python3.11/dist-packages (from aiohttp<4.0.0,>=3.8.3->langchain-community) (25.3.0)\n",
            "Requirement already satisfied: frozenlist>=1.1.1 in /usr/local/lib/python3.11/dist-packages (from aiohttp<4.0.0,>=3.8.3->langchain-community) (1.7.0)\n",
            "Requirement already satisfied: multidict<7.0,>=4.5 in /usr/local/lib/python3.11/dist-packages (from aiohttp<4.0.0,>=3.8.3->langchain-community) (6.6.3)\n",
            "Requirement already satisfied: propcache>=0.2.0 in /usr/local/lib/python3.11/dist-packages (from aiohttp<4.0.0,>=3.8.3->langchain-community) (0.3.2)\n",
            "Requirement already satisfied: yarl<2.0,>=1.17.0 in /usr/local/lib/python3.11/dist-packages (from aiohttp<4.0.0,>=3.8.3->langchain-community) (1.20.1)\n",
            "Collecting marshmallow<4.0.0,>=3.18.0 (from dataclasses-json<0.7,>=0.5.7->langchain-community)\n",
            "  Downloading marshmallow-3.26.1-py3-none-any.whl.metadata (7.3 kB)\n",
            "Collecting typing-inspect<1,>=0.4.0 (from dataclasses-json<0.7,>=0.5.7->langchain-community)\n",
            "  Downloading typing_inspect-0.9.0-py3-none-any.whl.metadata (1.5 kB)\n",
            "Requirement already satisfied: langchain-text-splitters<1.0.0,>=0.3.8 in /usr/local/lib/python3.11/dist-packages (from langchain<1.0.0,>=0.3.26->langchain-community) (0.3.8)\n",
            "Requirement already satisfied: pydantic<3.0.0,>=2.7.4 in /usr/local/lib/python3.11/dist-packages (from langchain<1.0.0,>=0.3.26->langchain-community) (2.11.7)\n",
            "Requirement already satisfied: jsonpatch<2.0,>=1.33 in /usr/local/lib/python3.11/dist-packages (from langchain-core<1.0.0,>=0.3.66->langchain-community) (1.33)\n",
            "Requirement already satisfied: packaging<25,>=23.2 in /usr/local/lib/python3.11/dist-packages (from langchain-core<1.0.0,>=0.3.66->langchain-community) (24.2)\n",
            "Requirement already satisfied: typing-extensions>=4.7 in /usr/local/lib/python3.11/dist-packages (from langchain-core<1.0.0,>=0.3.66->langchain-community) (4.14.0)\n",
            "Requirement already satisfied: httpx<1,>=0.23.0 in /usr/local/lib/python3.11/dist-packages (from langsmith>=0.1.125->langchain-community) (0.28.1)\n",
            "Requirement already satisfied: orjson<4.0.0,>=3.9.14 in /usr/local/lib/python3.11/dist-packages (from langsmith>=0.1.125->langchain-community) (3.10.18)\n",
            "Requirement already satisfied: requests-toolbelt<2.0.0,>=1.0.0 in /usr/local/lib/python3.11/dist-packages (from langsmith>=0.1.125->langchain-community) (1.0.0)\n",
            "Requirement already satisfied: zstandard<0.24.0,>=0.23.0 in /usr/local/lib/python3.11/dist-packages (from langsmith>=0.1.125->langchain-community) (0.23.0)\n",
            "Collecting python-dotenv>=0.21.0 (from pydantic-settings<3.0.0,>=2.4.0->langchain-community)\n",
            "  Downloading python_dotenv-1.1.1-py3-none-any.whl.metadata (24 kB)\n",
            "Requirement already satisfied: typing-inspection>=0.4.0 in /usr/local/lib/python3.11/dist-packages (from pydantic-settings<3.0.0,>=2.4.0->langchain-community) (0.4.1)\n",
            "Requirement already satisfied: charset-normalizer<4,>=2 in /usr/local/lib/python3.11/dist-packages (from requests<3,>=2->langchain-community) (3.4.2)\n",
            "Requirement already satisfied: idna<4,>=2.5 in /usr/local/lib/python3.11/dist-packages (from requests<3,>=2->langchain-community) (3.10)\n",
            "Requirement already satisfied: urllib3<3,>=1.21.1 in /usr/local/lib/python3.11/dist-packages (from requests<3,>=2->langchain-community) (2.4.0)\n",
            "Requirement already satisfied: certifi>=2017.4.17 in /usr/local/lib/python3.11/dist-packages (from requests<3,>=2->langchain-community) (2025.6.15)\n",
            "Requirement already satisfied: greenlet>=1 in /usr/local/lib/python3.11/dist-packages (from SQLAlchemy<3,>=1.4->langchain-community) (3.2.3)\n",
            "Requirement already satisfied: anyio in /usr/local/lib/python3.11/dist-packages (from httpx<1,>=0.23.0->langsmith>=0.1.125->langchain-community) (4.9.0)\n",
            "Requirement already satisfied: httpcore==1.* in /usr/local/lib/python3.11/dist-packages (from httpx<1,>=0.23.0->langsmith>=0.1.125->langchain-community) (1.0.9)\n",
            "Requirement already satisfied: h11>=0.16 in /usr/local/lib/python3.11/dist-packages (from httpcore==1.*->httpx<1,>=0.23.0->langsmith>=0.1.125->langchain-community) (0.16.0)\n",
            "Requirement already satisfied: jsonpointer>=1.9 in /usr/local/lib/python3.11/dist-packages (from jsonpatch<2.0,>=1.33->langchain-core<1.0.0,>=0.3.66->langchain-community) (3.0.0)\n",
            "Requirement already satisfied: annotated-types>=0.6.0 in /usr/local/lib/python3.11/dist-packages (from pydantic<3.0.0,>=2.7.4->langchain<1.0.0,>=0.3.26->langchain-community) (0.7.0)\n",
            "Requirement already satisfied: pydantic-core==2.33.2 in /usr/local/lib/python3.11/dist-packages (from pydantic<3.0.0,>=2.7.4->langchain<1.0.0,>=0.3.26->langchain-community) (2.33.2)\n",
            "Collecting mypy-extensions>=0.3.0 (from typing-inspect<1,>=0.4.0->dataclasses-json<0.7,>=0.5.7->langchain-community)\n",
            "  Downloading mypy_extensions-1.1.0-py3-none-any.whl.metadata (1.1 kB)\n",
            "Requirement already satisfied: sniffio>=1.1 in /usr/local/lib/python3.11/dist-packages (from anyio->httpx<1,>=0.23.0->langsmith>=0.1.125->langchain-community) (1.3.1)\n",
            "Downloading langchain_community-0.3.27-py3-none-any.whl (2.5 MB)\n",
            "\u001b[2K   \u001b[90m━━━━━━━━━━━━━━━━━━━━━━━━━━━━━━━━━━━━━━━━\u001b[0m \u001b[32m2.5/2.5 MB\u001b[0m \u001b[31m30.6 MB/s\u001b[0m eta \u001b[36m0:00:00\u001b[0m\n",
            "\u001b[?25hDownloading dataclasses_json-0.6.7-py3-none-any.whl (28 kB)\n",
            "Downloading httpx_sse-0.4.1-py3-none-any.whl (8.1 kB)\n",
            "Downloading pydantic_settings-2.10.1-py3-none-any.whl (45 kB)\n",
            "\u001b[2K   \u001b[90m━━━━━━━━━━━━━━━━━━━━━━━━━━━━━━━━━━━━━━━━\u001b[0m \u001b[32m45.2/45.2 kB\u001b[0m \u001b[31m3.3 MB/s\u001b[0m eta \u001b[36m0:00:00\u001b[0m\n",
            "\u001b[?25hDownloading marshmallow-3.26.1-py3-none-any.whl (50 kB)\n",
            "\u001b[2K   \u001b[90m━━━━━━━━━━━━━━━━━━━━━━━━━━━━━━━━━━━━━━━━\u001b[0m \u001b[32m50.9/50.9 kB\u001b[0m \u001b[31m3.9 MB/s\u001b[0m eta \u001b[36m0:00:00\u001b[0m\n",
            "\u001b[?25hDownloading python_dotenv-1.1.1-py3-none-any.whl (20 kB)\n",
            "Downloading typing_inspect-0.9.0-py3-none-any.whl (8.8 kB)\n",
            "Downloading mypy_extensions-1.1.0-py3-none-any.whl (5.0 kB)\n",
            "Installing collected packages: python-dotenv, mypy-extensions, marshmallow, httpx-sse, typing-inspect, pydantic-settings, dataclasses-json, langchain-community\n",
            "Successfully installed dataclasses-json-0.6.7 httpx-sse-0.4.1 langchain-community-0.3.27 marshmallow-3.26.1 mypy-extensions-1.1.0 pydantic-settings-2.10.1 python-dotenv-1.1.1 typing-inspect-0.9.0\n",
            "Requirement already satisfied: rich in /usr/local/lib/python3.11/dist-packages (13.9.4)\n",
            "Requirement already satisfied: markdown-it-py>=2.2.0 in /usr/local/lib/python3.11/dist-packages (from rich) (3.0.0)\n",
            "Requirement already satisfied: pygments<3.0.0,>=2.13.0 in /usr/local/lib/python3.11/dist-packages (from rich) (2.19.2)\n",
            "Requirement already satisfied: mdurl~=0.1 in /usr/local/lib/python3.11/dist-packages (from markdown-it-py>=2.2.0->rich) (0.1.2)\n",
            "Requirement already satisfied: gdown in /usr/local/lib/python3.11/dist-packages (5.2.0)\n",
            "Requirement already satisfied: beautifulsoup4 in /usr/local/lib/python3.11/dist-packages (from gdown) (4.13.4)\n",
            "Requirement already satisfied: filelock in /usr/local/lib/python3.11/dist-packages (from gdown) (3.18.0)\n",
            "Requirement already satisfied: requests[socks] in /usr/local/lib/python3.11/dist-packages (from gdown) (2.32.3)\n",
            "Requirement already satisfied: tqdm in /usr/local/lib/python3.11/dist-packages (from gdown) (4.67.1)\n",
            "Requirement already satisfied: soupsieve>1.2 in /usr/local/lib/python3.11/dist-packages (from beautifulsoup4->gdown) (2.7)\n",
            "Requirement already satisfied: typing-extensions>=4.0.0 in /usr/local/lib/python3.11/dist-packages (from beautifulsoup4->gdown) (4.14.0)\n",
            "Requirement already satisfied: charset-normalizer<4,>=2 in /usr/local/lib/python3.11/dist-packages (from requests[socks]->gdown) (3.4.2)\n",
            "Requirement already satisfied: idna<4,>=2.5 in /usr/local/lib/python3.11/dist-packages (from requests[socks]->gdown) (3.10)\n",
            "Requirement already satisfied: urllib3<3,>=1.21.1 in /usr/local/lib/python3.11/dist-packages (from requests[socks]->gdown) (2.4.0)\n",
            "Requirement already satisfied: certifi>=2017.4.17 in /usr/local/lib/python3.11/dist-packages (from requests[socks]->gdown) (2025.6.15)\n",
            "Requirement already satisfied: PySocks!=1.5.7,>=1.5.6 in /usr/local/lib/python3.11/dist-packages (from requests[socks]->gdown) (1.7.1)\n"
          ]
        }
      ],
      "source": [
        "!pip install langchain\n",
        "\n",
        "!pip install langchain-groq\n",
        "\n",
        "!pip install langchain-community\n",
        "\n",
        "!pip install rich\n",
        "\n",
        "!pip install gdown"
      ]
    },
    {
      "cell_type": "code",
      "source": [
        "import os\n",
        "\n",
        "from google.colab import userdata\n",
        "\n",
        "from langchain_groq import ChatGroq\n",
        "\n",
        "groq_api_key = os.environ[\"GROQ_API_KEY\"] = userdata.get(\"GROQ_API_KEY\")\n",
        "\n",
        "llama = ChatGroq(\n",
        "\n",
        "                 model = 'llama-3.3-70b-versatile'\n",
        ")"
      ],
      "metadata": {
        "id": "0bwnXKRNY42m"
      },
      "execution_count": 2,
      "outputs": []
    },
    {
      "cell_type": "code",
      "source": [
        "import pandas as pd\n",
        "\n",
        "products_dataframe = pd.read_csv('/content/ecommerce_products_dataset.csv')\n",
        "\n",
        "products_dataframe.head()"
      ],
      "metadata": {
        "colab": {
          "base_uri": "https://localhost:8080/",
          "height": 206
        },
        "id": "5I_0su1UZW7b",
        "outputId": "e9da4636-5e23-4d53-d8d7-44cf48f1315d"
      },
      "execution_count": 3,
      "outputs": [
        {
          "output_type": "execute_result",
          "data": {
            "text/plain": [
              "  Product ID           Product Name     Category  Price_USD  \\\n",
              "0     P00001  Science Fiction Novel        Books     103.82   \n",
              "1     P00002             Smartwatch  Electronics     904.61   \n",
              "2     P00003                 Laptop  Electronics     621.59   \n",
              "3     P00004               Sneakers      Fashion     164.85   \n",
              "4     P00005                 Laptop  Electronics     408.08   \n",
              "\n",
              "                                         Description  Rating  \n",
              "0  Live while professor white we writer determine...     4.4  \n",
              "1  Heart rate monitor; GPS tracking; AMOLED displ...     4.6  \n",
              "2  Intel i7 processor; 16GB RAM; 512GB SSD; 15.6-...     4.1  \n",
              "3   Others feeling billion lawyer evening enter eye.     3.0  \n",
              "4  Intel i7 processor; 16GB RAM; 512GB SSD; 15.6-...     4.8  "
            ],
            "text/html": [
              "\n",
              "  <div id=\"df-add5c825-7871-4e73-a0e1-11bbb28b3d43\" class=\"colab-df-container\">\n",
              "    <div>\n",
              "<style scoped>\n",
              "    .dataframe tbody tr th:only-of-type {\n",
              "        vertical-align: middle;\n",
              "    }\n",
              "\n",
              "    .dataframe tbody tr th {\n",
              "        vertical-align: top;\n",
              "    }\n",
              "\n",
              "    .dataframe thead th {\n",
              "        text-align: right;\n",
              "    }\n",
              "</style>\n",
              "<table border=\"1\" class=\"dataframe\">\n",
              "  <thead>\n",
              "    <tr style=\"text-align: right;\">\n",
              "      <th></th>\n",
              "      <th>Product ID</th>\n",
              "      <th>Product Name</th>\n",
              "      <th>Category</th>\n",
              "      <th>Price_USD</th>\n",
              "      <th>Description</th>\n",
              "      <th>Rating</th>\n",
              "    </tr>\n",
              "  </thead>\n",
              "  <tbody>\n",
              "    <tr>\n",
              "      <th>0</th>\n",
              "      <td>P00001</td>\n",
              "      <td>Science Fiction Novel</td>\n",
              "      <td>Books</td>\n",
              "      <td>103.82</td>\n",
              "      <td>Live while professor white we writer determine...</td>\n",
              "      <td>4.4</td>\n",
              "    </tr>\n",
              "    <tr>\n",
              "      <th>1</th>\n",
              "      <td>P00002</td>\n",
              "      <td>Smartwatch</td>\n",
              "      <td>Electronics</td>\n",
              "      <td>904.61</td>\n",
              "      <td>Heart rate monitor; GPS tracking; AMOLED displ...</td>\n",
              "      <td>4.6</td>\n",
              "    </tr>\n",
              "    <tr>\n",
              "      <th>2</th>\n",
              "      <td>P00003</td>\n",
              "      <td>Laptop</td>\n",
              "      <td>Electronics</td>\n",
              "      <td>621.59</td>\n",
              "      <td>Intel i7 processor; 16GB RAM; 512GB SSD; 15.6-...</td>\n",
              "      <td>4.1</td>\n",
              "    </tr>\n",
              "    <tr>\n",
              "      <th>3</th>\n",
              "      <td>P00004</td>\n",
              "      <td>Sneakers</td>\n",
              "      <td>Fashion</td>\n",
              "      <td>164.85</td>\n",
              "      <td>Others feeling billion lawyer evening enter eye.</td>\n",
              "      <td>3.0</td>\n",
              "    </tr>\n",
              "    <tr>\n",
              "      <th>4</th>\n",
              "      <td>P00005</td>\n",
              "      <td>Laptop</td>\n",
              "      <td>Electronics</td>\n",
              "      <td>408.08</td>\n",
              "      <td>Intel i7 processor; 16GB RAM; 512GB SSD; 15.6-...</td>\n",
              "      <td>4.8</td>\n",
              "    </tr>\n",
              "  </tbody>\n",
              "</table>\n",
              "</div>\n",
              "    <div class=\"colab-df-buttons\">\n",
              "\n",
              "  <div class=\"colab-df-container\">\n",
              "    <button class=\"colab-df-convert\" onclick=\"convertToInteractive('df-add5c825-7871-4e73-a0e1-11bbb28b3d43')\"\n",
              "            title=\"Convert this dataframe to an interactive table.\"\n",
              "            style=\"display:none;\">\n",
              "\n",
              "  <svg xmlns=\"http://www.w3.org/2000/svg\" height=\"24px\" viewBox=\"0 -960 960 960\">\n",
              "    <path d=\"M120-120v-720h720v720H120Zm60-500h600v-160H180v160Zm220 220h160v-160H400v160Zm0 220h160v-160H400v160ZM180-400h160v-160H180v160Zm440 0h160v-160H620v160ZM180-180h160v-160H180v160Zm440 0h160v-160H620v160Z\"/>\n",
              "  </svg>\n",
              "    </button>\n",
              "\n",
              "  <style>\n",
              "    .colab-df-container {\n",
              "      display:flex;\n",
              "      gap: 12px;\n",
              "    }\n",
              "\n",
              "    .colab-df-convert {\n",
              "      background-color: #E8F0FE;\n",
              "      border: none;\n",
              "      border-radius: 50%;\n",
              "      cursor: pointer;\n",
              "      display: none;\n",
              "      fill: #1967D2;\n",
              "      height: 32px;\n",
              "      padding: 0 0 0 0;\n",
              "      width: 32px;\n",
              "    }\n",
              "\n",
              "    .colab-df-convert:hover {\n",
              "      background-color: #E2EBFA;\n",
              "      box-shadow: 0px 1px 2px rgba(60, 64, 67, 0.3), 0px 1px 3px 1px rgba(60, 64, 67, 0.15);\n",
              "      fill: #174EA6;\n",
              "    }\n",
              "\n",
              "    .colab-df-buttons div {\n",
              "      margin-bottom: 4px;\n",
              "    }\n",
              "\n",
              "    [theme=dark] .colab-df-convert {\n",
              "      background-color: #3B4455;\n",
              "      fill: #D2E3FC;\n",
              "    }\n",
              "\n",
              "    [theme=dark] .colab-df-convert:hover {\n",
              "      background-color: #434B5C;\n",
              "      box-shadow: 0px 1px 3px 1px rgba(0, 0, 0, 0.15);\n",
              "      filter: drop-shadow(0px 1px 2px rgba(0, 0, 0, 0.3));\n",
              "      fill: #FFFFFF;\n",
              "    }\n",
              "  </style>\n",
              "\n",
              "    <script>\n",
              "      const buttonEl =\n",
              "        document.querySelector('#df-add5c825-7871-4e73-a0e1-11bbb28b3d43 button.colab-df-convert');\n",
              "      buttonEl.style.display =\n",
              "        google.colab.kernel.accessAllowed ? 'block' : 'none';\n",
              "\n",
              "      async function convertToInteractive(key) {\n",
              "        const element = document.querySelector('#df-add5c825-7871-4e73-a0e1-11bbb28b3d43');\n",
              "        const dataTable =\n",
              "          await google.colab.kernel.invokeFunction('convertToInteractive',\n",
              "                                                    [key], {});\n",
              "        if (!dataTable) return;\n",
              "\n",
              "        const docLinkHtml = 'Like what you see? Visit the ' +\n",
              "          '<a target=\"_blank\" href=https://colab.research.google.com/notebooks/data_table.ipynb>data table notebook</a>'\n",
              "          + ' to learn more about interactive tables.';\n",
              "        element.innerHTML = '';\n",
              "        dataTable['output_type'] = 'display_data';\n",
              "        await google.colab.output.renderOutput(dataTable, element);\n",
              "        const docLink = document.createElement('div');\n",
              "        docLink.innerHTML = docLinkHtml;\n",
              "        element.appendChild(docLink);\n",
              "      }\n",
              "    </script>\n",
              "  </div>\n",
              "\n",
              "\n",
              "    <div id=\"df-e95b4ab0-6521-4d25-b6ce-2ab712f871b2\">\n",
              "      <button class=\"colab-df-quickchart\" onclick=\"quickchart('df-e95b4ab0-6521-4d25-b6ce-2ab712f871b2')\"\n",
              "                title=\"Suggest charts\"\n",
              "                style=\"display:none;\">\n",
              "\n",
              "<svg xmlns=\"http://www.w3.org/2000/svg\" height=\"24px\"viewBox=\"0 0 24 24\"\n",
              "     width=\"24px\">\n",
              "    <g>\n",
              "        <path d=\"M19 3H5c-1.1 0-2 .9-2 2v14c0 1.1.9 2 2 2h14c1.1 0 2-.9 2-2V5c0-1.1-.9-2-2-2zM9 17H7v-7h2v7zm4 0h-2V7h2v10zm4 0h-2v-4h2v4z\"/>\n",
              "    </g>\n",
              "</svg>\n",
              "      </button>\n",
              "\n",
              "<style>\n",
              "  .colab-df-quickchart {\n",
              "      --bg-color: #E8F0FE;\n",
              "      --fill-color: #1967D2;\n",
              "      --hover-bg-color: #E2EBFA;\n",
              "      --hover-fill-color: #174EA6;\n",
              "      --disabled-fill-color: #AAA;\n",
              "      --disabled-bg-color: #DDD;\n",
              "  }\n",
              "\n",
              "  [theme=dark] .colab-df-quickchart {\n",
              "      --bg-color: #3B4455;\n",
              "      --fill-color: #D2E3FC;\n",
              "      --hover-bg-color: #434B5C;\n",
              "      --hover-fill-color: #FFFFFF;\n",
              "      --disabled-bg-color: #3B4455;\n",
              "      --disabled-fill-color: #666;\n",
              "  }\n",
              "\n",
              "  .colab-df-quickchart {\n",
              "    background-color: var(--bg-color);\n",
              "    border: none;\n",
              "    border-radius: 50%;\n",
              "    cursor: pointer;\n",
              "    display: none;\n",
              "    fill: var(--fill-color);\n",
              "    height: 32px;\n",
              "    padding: 0;\n",
              "    width: 32px;\n",
              "  }\n",
              "\n",
              "  .colab-df-quickchart:hover {\n",
              "    background-color: var(--hover-bg-color);\n",
              "    box-shadow: 0 1px 2px rgba(60, 64, 67, 0.3), 0 1px 3px 1px rgba(60, 64, 67, 0.15);\n",
              "    fill: var(--button-hover-fill-color);\n",
              "  }\n",
              "\n",
              "  .colab-df-quickchart-complete:disabled,\n",
              "  .colab-df-quickchart-complete:disabled:hover {\n",
              "    background-color: var(--disabled-bg-color);\n",
              "    fill: var(--disabled-fill-color);\n",
              "    box-shadow: none;\n",
              "  }\n",
              "\n",
              "  .colab-df-spinner {\n",
              "    border: 2px solid var(--fill-color);\n",
              "    border-color: transparent;\n",
              "    border-bottom-color: var(--fill-color);\n",
              "    animation:\n",
              "      spin 1s steps(1) infinite;\n",
              "  }\n",
              "\n",
              "  @keyframes spin {\n",
              "    0% {\n",
              "      border-color: transparent;\n",
              "      border-bottom-color: var(--fill-color);\n",
              "      border-left-color: var(--fill-color);\n",
              "    }\n",
              "    20% {\n",
              "      border-color: transparent;\n",
              "      border-left-color: var(--fill-color);\n",
              "      border-top-color: var(--fill-color);\n",
              "    }\n",
              "    30% {\n",
              "      border-color: transparent;\n",
              "      border-left-color: var(--fill-color);\n",
              "      border-top-color: var(--fill-color);\n",
              "      border-right-color: var(--fill-color);\n",
              "    }\n",
              "    40% {\n",
              "      border-color: transparent;\n",
              "      border-right-color: var(--fill-color);\n",
              "      border-top-color: var(--fill-color);\n",
              "    }\n",
              "    60% {\n",
              "      border-color: transparent;\n",
              "      border-right-color: var(--fill-color);\n",
              "    }\n",
              "    80% {\n",
              "      border-color: transparent;\n",
              "      border-right-color: var(--fill-color);\n",
              "      border-bottom-color: var(--fill-color);\n",
              "    }\n",
              "    90% {\n",
              "      border-color: transparent;\n",
              "      border-bottom-color: var(--fill-color);\n",
              "    }\n",
              "  }\n",
              "</style>\n",
              "\n",
              "      <script>\n",
              "        async function quickchart(key) {\n",
              "          const quickchartButtonEl =\n",
              "            document.querySelector('#' + key + ' button');\n",
              "          quickchartButtonEl.disabled = true;  // To prevent multiple clicks.\n",
              "          quickchartButtonEl.classList.add('colab-df-spinner');\n",
              "          try {\n",
              "            const charts = await google.colab.kernel.invokeFunction(\n",
              "                'suggestCharts', [key], {});\n",
              "          } catch (error) {\n",
              "            console.error('Error during call to suggestCharts:', error);\n",
              "          }\n",
              "          quickchartButtonEl.classList.remove('colab-df-spinner');\n",
              "          quickchartButtonEl.classList.add('colab-df-quickchart-complete');\n",
              "        }\n",
              "        (() => {\n",
              "          let quickchartButtonEl =\n",
              "            document.querySelector('#df-e95b4ab0-6521-4d25-b6ce-2ab712f871b2 button');\n",
              "          quickchartButtonEl.style.display =\n",
              "            google.colab.kernel.accessAllowed ? 'block' : 'none';\n",
              "        })();\n",
              "      </script>\n",
              "    </div>\n",
              "\n",
              "    </div>\n",
              "  </div>\n"
            ],
            "application/vnd.google.colaboratory.intrinsic+json": {
              "type": "dataframe",
              "variable_name": "products_dataframe",
              "summary": "{\n  \"name\": \"products_dataframe\",\n  \"rows\": 100,\n  \"fields\": [\n    {\n      \"column\": \"Product ID\",\n      \"properties\": {\n        \"dtype\": \"string\",\n        \"num_unique_values\": 100,\n        \"samples\": [\n          \"P00084\",\n          \"P00054\",\n          \"P00071\"\n        ],\n        \"semantic_type\": \"\",\n        \"description\": \"\"\n      }\n    },\n    {\n      \"column\": \"Product Name\",\n      \"properties\": {\n        \"dtype\": \"category\",\n        \"num_unique_values\": 16,\n        \"samples\": [\n          \"Science Fiction Novel\",\n          \"Smartwatch\",\n          \"Microwave Oven\"\n        ],\n        \"semantic_type\": \"\",\n        \"description\": \"\"\n      }\n    },\n    {\n      \"column\": \"Category\",\n      \"properties\": {\n        \"dtype\": \"category\",\n        \"num_unique_values\": 5,\n        \"samples\": [\n          \"Electronics\",\n          \"Toys & Games\",\n          \"Fashion\"\n        ],\n        \"semantic_type\": \"\",\n        \"description\": \"\"\n      }\n    },\n    {\n      \"column\": \"Price_USD\",\n      \"properties\": {\n        \"dtype\": \"number\",\n        \"std\": 448.91060842910804,\n        \"min\": 10.43,\n        \"max\": 1467.96,\n        \"num_unique_values\": 100,\n        \"samples\": [\n          1383.34,\n          1290.28,\n          865.5\n        ],\n        \"semantic_type\": \"\",\n        \"description\": \"\"\n      }\n    },\n    {\n      \"column\": \"Description\",\n      \"properties\": {\n        \"dtype\": \"category\",\n        \"num_unique_values\": 36,\n        \"samples\": [\n          \"School great you themselves shake blue family nor investment ready cut despite together.\",\n          \"Noise cancellation; Touch controls; 24-hour battery with case; Bluetooth 5.2\",\n          \"Natural organization simply nearly technology senior.\"\n        ],\n        \"semantic_type\": \"\",\n        \"description\": \"\"\n      }\n    },\n    {\n      \"column\": \"Rating\",\n      \"properties\": {\n        \"dtype\": \"number\",\n        \"std\": 0.5682606813956091,\n        \"min\": 3.0,\n        \"max\": 5.0,\n        \"num_unique_values\": 21,\n        \"samples\": [\n          4.4,\n          4.2,\n          3.2\n        ],\n        \"semantic_type\": \"\",\n        \"description\": \"\"\n      }\n    }\n  ]\n}"
            }
          },
          "metadata": {},
          "execution_count": 3
        }
      ]
    },
    {
      "cell_type": "code",
      "source": [
        "products_dataframe.info()"
      ],
      "metadata": {
        "colab": {
          "base_uri": "https://localhost:8080/"
        },
        "id": "Z5dJ5bX5b7EP",
        "outputId": "4dbea301-fc6b-4167-bb2f-edd31f491bec"
      },
      "execution_count": 4,
      "outputs": [
        {
          "output_type": "stream",
          "name": "stdout",
          "text": [
            "<class 'pandas.core.frame.DataFrame'>\n",
            "RangeIndex: 100 entries, 0 to 99\n",
            "Data columns (total 6 columns):\n",
            " #   Column        Non-Null Count  Dtype  \n",
            "---  ------        --------------  -----  \n",
            " 0   Product ID    100 non-null    object \n",
            " 1   Product Name  100 non-null    object \n",
            " 2   Category      100 non-null    object \n",
            " 3   Price_USD     100 non-null    float64\n",
            " 4   Description   100 non-null    object \n",
            " 5   Rating        100 non-null    float64\n",
            "dtypes: float64(2), object(4)\n",
            "memory usage: 4.8+ KB\n"
          ]
        }
      ]
    },
    {
      "cell_type": "code",
      "source": [
        "products_dataframe.describe()"
      ],
      "metadata": {
        "colab": {
          "base_uri": "https://localhost:8080/",
          "height": 300
        },
        "id": "m9Zl6SZhcYEu",
        "outputId": "d81b5a63-1958-4fe5-a4db-c12abf2368a2"
      },
      "execution_count": 5,
      "outputs": [
        {
          "output_type": "execute_result",
          "data": {
            "text/plain": [
              "         Price_USD      Rating\n",
              "count   100.000000  100.000000\n",
              "mean    551.212900    4.097000\n",
              "std     448.910608    0.568261\n",
              "min      10.430000    3.000000\n",
              "25%     145.307500    3.600000\n",
              "50%     407.175000    4.200000\n",
              "75%     914.097500    4.600000\n",
              "max    1467.960000    5.000000"
            ],
            "text/html": [
              "\n",
              "  <div id=\"df-d482d68b-c27c-4f95-8180-ba56927c0d6d\" class=\"colab-df-container\">\n",
              "    <div>\n",
              "<style scoped>\n",
              "    .dataframe tbody tr th:only-of-type {\n",
              "        vertical-align: middle;\n",
              "    }\n",
              "\n",
              "    .dataframe tbody tr th {\n",
              "        vertical-align: top;\n",
              "    }\n",
              "\n",
              "    .dataframe thead th {\n",
              "        text-align: right;\n",
              "    }\n",
              "</style>\n",
              "<table border=\"1\" class=\"dataframe\">\n",
              "  <thead>\n",
              "    <tr style=\"text-align: right;\">\n",
              "      <th></th>\n",
              "      <th>Price_USD</th>\n",
              "      <th>Rating</th>\n",
              "    </tr>\n",
              "  </thead>\n",
              "  <tbody>\n",
              "    <tr>\n",
              "      <th>count</th>\n",
              "      <td>100.000000</td>\n",
              "      <td>100.000000</td>\n",
              "    </tr>\n",
              "    <tr>\n",
              "      <th>mean</th>\n",
              "      <td>551.212900</td>\n",
              "      <td>4.097000</td>\n",
              "    </tr>\n",
              "    <tr>\n",
              "      <th>std</th>\n",
              "      <td>448.910608</td>\n",
              "      <td>0.568261</td>\n",
              "    </tr>\n",
              "    <tr>\n",
              "      <th>min</th>\n",
              "      <td>10.430000</td>\n",
              "      <td>3.000000</td>\n",
              "    </tr>\n",
              "    <tr>\n",
              "      <th>25%</th>\n",
              "      <td>145.307500</td>\n",
              "      <td>3.600000</td>\n",
              "    </tr>\n",
              "    <tr>\n",
              "      <th>50%</th>\n",
              "      <td>407.175000</td>\n",
              "      <td>4.200000</td>\n",
              "    </tr>\n",
              "    <tr>\n",
              "      <th>75%</th>\n",
              "      <td>914.097500</td>\n",
              "      <td>4.600000</td>\n",
              "    </tr>\n",
              "    <tr>\n",
              "      <th>max</th>\n",
              "      <td>1467.960000</td>\n",
              "      <td>5.000000</td>\n",
              "    </tr>\n",
              "  </tbody>\n",
              "</table>\n",
              "</div>\n",
              "    <div class=\"colab-df-buttons\">\n",
              "\n",
              "  <div class=\"colab-df-container\">\n",
              "    <button class=\"colab-df-convert\" onclick=\"convertToInteractive('df-d482d68b-c27c-4f95-8180-ba56927c0d6d')\"\n",
              "            title=\"Convert this dataframe to an interactive table.\"\n",
              "            style=\"display:none;\">\n",
              "\n",
              "  <svg xmlns=\"http://www.w3.org/2000/svg\" height=\"24px\" viewBox=\"0 -960 960 960\">\n",
              "    <path d=\"M120-120v-720h720v720H120Zm60-500h600v-160H180v160Zm220 220h160v-160H400v160Zm0 220h160v-160H400v160ZM180-400h160v-160H180v160Zm440 0h160v-160H620v160ZM180-180h160v-160H180v160Zm440 0h160v-160H620v160Z\"/>\n",
              "  </svg>\n",
              "    </button>\n",
              "\n",
              "  <style>\n",
              "    .colab-df-container {\n",
              "      display:flex;\n",
              "      gap: 12px;\n",
              "    }\n",
              "\n",
              "    .colab-df-convert {\n",
              "      background-color: #E8F0FE;\n",
              "      border: none;\n",
              "      border-radius: 50%;\n",
              "      cursor: pointer;\n",
              "      display: none;\n",
              "      fill: #1967D2;\n",
              "      height: 32px;\n",
              "      padding: 0 0 0 0;\n",
              "      width: 32px;\n",
              "    }\n",
              "\n",
              "    .colab-df-convert:hover {\n",
              "      background-color: #E2EBFA;\n",
              "      box-shadow: 0px 1px 2px rgba(60, 64, 67, 0.3), 0px 1px 3px 1px rgba(60, 64, 67, 0.15);\n",
              "      fill: #174EA6;\n",
              "    }\n",
              "\n",
              "    .colab-df-buttons div {\n",
              "      margin-bottom: 4px;\n",
              "    }\n",
              "\n",
              "    [theme=dark] .colab-df-convert {\n",
              "      background-color: #3B4455;\n",
              "      fill: #D2E3FC;\n",
              "    }\n",
              "\n",
              "    [theme=dark] .colab-df-convert:hover {\n",
              "      background-color: #434B5C;\n",
              "      box-shadow: 0px 1px 3px 1px rgba(0, 0, 0, 0.15);\n",
              "      filter: drop-shadow(0px 1px 2px rgba(0, 0, 0, 0.3));\n",
              "      fill: #FFFFFF;\n",
              "    }\n",
              "  </style>\n",
              "\n",
              "    <script>\n",
              "      const buttonEl =\n",
              "        document.querySelector('#df-d482d68b-c27c-4f95-8180-ba56927c0d6d button.colab-df-convert');\n",
              "      buttonEl.style.display =\n",
              "        google.colab.kernel.accessAllowed ? 'block' : 'none';\n",
              "\n",
              "      async function convertToInteractive(key) {\n",
              "        const element = document.querySelector('#df-d482d68b-c27c-4f95-8180-ba56927c0d6d');\n",
              "        const dataTable =\n",
              "          await google.colab.kernel.invokeFunction('convertToInteractive',\n",
              "                                                    [key], {});\n",
              "        if (!dataTable) return;\n",
              "\n",
              "        const docLinkHtml = 'Like what you see? Visit the ' +\n",
              "          '<a target=\"_blank\" href=https://colab.research.google.com/notebooks/data_table.ipynb>data table notebook</a>'\n",
              "          + ' to learn more about interactive tables.';\n",
              "        element.innerHTML = '';\n",
              "        dataTable['output_type'] = 'display_data';\n",
              "        await google.colab.output.renderOutput(dataTable, element);\n",
              "        const docLink = document.createElement('div');\n",
              "        docLink.innerHTML = docLinkHtml;\n",
              "        element.appendChild(docLink);\n",
              "      }\n",
              "    </script>\n",
              "  </div>\n",
              "\n",
              "\n",
              "    <div id=\"df-8f72bf99-9ebd-41cb-9ea2-6aad1e394e65\">\n",
              "      <button class=\"colab-df-quickchart\" onclick=\"quickchart('df-8f72bf99-9ebd-41cb-9ea2-6aad1e394e65')\"\n",
              "                title=\"Suggest charts\"\n",
              "                style=\"display:none;\">\n",
              "\n",
              "<svg xmlns=\"http://www.w3.org/2000/svg\" height=\"24px\"viewBox=\"0 0 24 24\"\n",
              "     width=\"24px\">\n",
              "    <g>\n",
              "        <path d=\"M19 3H5c-1.1 0-2 .9-2 2v14c0 1.1.9 2 2 2h14c1.1 0 2-.9 2-2V5c0-1.1-.9-2-2-2zM9 17H7v-7h2v7zm4 0h-2V7h2v10zm4 0h-2v-4h2v4z\"/>\n",
              "    </g>\n",
              "</svg>\n",
              "      </button>\n",
              "\n",
              "<style>\n",
              "  .colab-df-quickchart {\n",
              "      --bg-color: #E8F0FE;\n",
              "      --fill-color: #1967D2;\n",
              "      --hover-bg-color: #E2EBFA;\n",
              "      --hover-fill-color: #174EA6;\n",
              "      --disabled-fill-color: #AAA;\n",
              "      --disabled-bg-color: #DDD;\n",
              "  }\n",
              "\n",
              "  [theme=dark] .colab-df-quickchart {\n",
              "      --bg-color: #3B4455;\n",
              "      --fill-color: #D2E3FC;\n",
              "      --hover-bg-color: #434B5C;\n",
              "      --hover-fill-color: #FFFFFF;\n",
              "      --disabled-bg-color: #3B4455;\n",
              "      --disabled-fill-color: #666;\n",
              "  }\n",
              "\n",
              "  .colab-df-quickchart {\n",
              "    background-color: var(--bg-color);\n",
              "    border: none;\n",
              "    border-radius: 50%;\n",
              "    cursor: pointer;\n",
              "    display: none;\n",
              "    fill: var(--fill-color);\n",
              "    height: 32px;\n",
              "    padding: 0;\n",
              "    width: 32px;\n",
              "  }\n",
              "\n",
              "  .colab-df-quickchart:hover {\n",
              "    background-color: var(--hover-bg-color);\n",
              "    box-shadow: 0 1px 2px rgba(60, 64, 67, 0.3), 0 1px 3px 1px rgba(60, 64, 67, 0.15);\n",
              "    fill: var(--button-hover-fill-color);\n",
              "  }\n",
              "\n",
              "  .colab-df-quickchart-complete:disabled,\n",
              "  .colab-df-quickchart-complete:disabled:hover {\n",
              "    background-color: var(--disabled-bg-color);\n",
              "    fill: var(--disabled-fill-color);\n",
              "    box-shadow: none;\n",
              "  }\n",
              "\n",
              "  .colab-df-spinner {\n",
              "    border: 2px solid var(--fill-color);\n",
              "    border-color: transparent;\n",
              "    border-bottom-color: var(--fill-color);\n",
              "    animation:\n",
              "      spin 1s steps(1) infinite;\n",
              "  }\n",
              "\n",
              "  @keyframes spin {\n",
              "    0% {\n",
              "      border-color: transparent;\n",
              "      border-bottom-color: var(--fill-color);\n",
              "      border-left-color: var(--fill-color);\n",
              "    }\n",
              "    20% {\n",
              "      border-color: transparent;\n",
              "      border-left-color: var(--fill-color);\n",
              "      border-top-color: var(--fill-color);\n",
              "    }\n",
              "    30% {\n",
              "      border-color: transparent;\n",
              "      border-left-color: var(--fill-color);\n",
              "      border-top-color: var(--fill-color);\n",
              "      border-right-color: var(--fill-color);\n",
              "    }\n",
              "    40% {\n",
              "      border-color: transparent;\n",
              "      border-right-color: var(--fill-color);\n",
              "      border-top-color: var(--fill-color);\n",
              "    }\n",
              "    60% {\n",
              "      border-color: transparent;\n",
              "      border-right-color: var(--fill-color);\n",
              "    }\n",
              "    80% {\n",
              "      border-color: transparent;\n",
              "      border-right-color: var(--fill-color);\n",
              "      border-bottom-color: var(--fill-color);\n",
              "    }\n",
              "    90% {\n",
              "      border-color: transparent;\n",
              "      border-bottom-color: var(--fill-color);\n",
              "    }\n",
              "  }\n",
              "</style>\n",
              "\n",
              "      <script>\n",
              "        async function quickchart(key) {\n",
              "          const quickchartButtonEl =\n",
              "            document.querySelector('#' + key + ' button');\n",
              "          quickchartButtonEl.disabled = true;  // To prevent multiple clicks.\n",
              "          quickchartButtonEl.classList.add('colab-df-spinner');\n",
              "          try {\n",
              "            const charts = await google.colab.kernel.invokeFunction(\n",
              "                'suggestCharts', [key], {});\n",
              "          } catch (error) {\n",
              "            console.error('Error during call to suggestCharts:', error);\n",
              "          }\n",
              "          quickchartButtonEl.classList.remove('colab-df-spinner');\n",
              "          quickchartButtonEl.classList.add('colab-df-quickchart-complete');\n",
              "        }\n",
              "        (() => {\n",
              "          let quickchartButtonEl =\n",
              "            document.querySelector('#df-8f72bf99-9ebd-41cb-9ea2-6aad1e394e65 button');\n",
              "          quickchartButtonEl.style.display =\n",
              "            google.colab.kernel.accessAllowed ? 'block' : 'none';\n",
              "        })();\n",
              "      </script>\n",
              "    </div>\n",
              "\n",
              "    </div>\n",
              "  </div>\n"
            ],
            "application/vnd.google.colaboratory.intrinsic+json": {
              "type": "dataframe",
              "summary": "{\n  \"name\": \"products_dataframe\",\n  \"rows\": 8,\n  \"fields\": [\n    {\n      \"column\": \"Price_USD\",\n      \"properties\": {\n        \"dtype\": \"number\",\n        \"std\": 485.1368062106941,\n        \"min\": 10.43,\n        \"max\": 1467.96,\n        \"num_unique_values\": 8,\n        \"samples\": [\n          551.2129,\n          407.17499999999995,\n          100.0\n        ],\n        \"semantic_type\": \"\",\n        \"description\": \"\"\n      }\n    },\n    {\n      \"column\": \"Rating\",\n      \"properties\": {\n        \"dtype\": \"number\",\n        \"std\": 34.11682324965802,\n        \"min\": 0.5682606813956091,\n        \"max\": 100.0,\n        \"num_unique_values\": 8,\n        \"samples\": [\n          4.0969999999999995,\n          4.2,\n          100.0\n        ],\n        \"semantic_type\": \"\",\n        \"description\": \"\"\n      }\n    }\n  ]\n}"
            }
          },
          "metadata": {},
          "execution_count": 5
        }
      ]
    },
    {
      "cell_type": "code",
      "source": [
        "products_dataframe['Category'].unique()"
      ],
      "metadata": {
        "colab": {
          "base_uri": "https://localhost:8080/"
        },
        "id": "_C-kKP_Ocp0q",
        "outputId": "63be71c4-f83d-4247-b722-274e254f561b"
      },
      "execution_count": 6,
      "outputs": [
        {
          "output_type": "execute_result",
          "data": {
            "text/plain": [
              "array(['Books', 'Electronics', 'Fashion', 'Home & Kitchen',\n",
              "       'Toys & Games'], dtype=object)"
            ]
          },
          "metadata": {},
          "execution_count": 6
        }
      ]
    },
    {
      "cell_type": "code",
      "source": [
        "products_dataframe['Rating'].unique()"
      ],
      "metadata": {
        "colab": {
          "base_uri": "https://localhost:8080/"
        },
        "id": "Dvk3qYKVgdum",
        "outputId": "9f9af568-9a62-4011-c8f5-b0cd181b7ff4"
      },
      "execution_count": 7,
      "outputs": [
        {
          "output_type": "execute_result",
          "data": {
            "text/plain": [
              "array([4.4, 4.6, 4.1, 3. , 4.8, 3.1, 3.9, 3.6, 3.7, 3.4, 3.8, 4.3, 4. ,\n",
              "       4.7, 4.5, 3.2, 4.9, 4.2, 5. , 3.3, 3.5])"
            ]
          },
          "metadata": {},
          "execution_count": 7
        }
      ]
    },
    {
      "cell_type": "markdown",
      "source": [
        "**Pandas Code Tool Executor Chain**"
      ],
      "metadata": {
        "id": "61w0hXmgkRbd"
      }
    },
    {
      "cell_type": "code",
      "source": [
        "from langchain_core.runnables import chain\n",
        "\n",
        "from langchain_core.output_parsers import StrOutputParser\n",
        "\n",
        "from operator import itemgetter\n",
        "\n",
        "from langchain_core.runnables import RunnablePassthrough\n",
        "\n",
        "from langchain_core.prompts import ChatPromptTemplate\n",
        "\n",
        "\n",
        "@chain\n",
        "def pandas_code_tool_executor(pandas_query):\n",
        "\n",
        "  products_dataframe_filtered = eval(pandas_query)\n",
        "\n",
        "  if products_dataframe_filtered.empty:\n",
        "\n",
        "    return products_dataframe.to_markdown()\n",
        "\n",
        "  else:\n",
        "\n",
        "    return products_dataframe_filtered.to_markdown()\n",
        "\n",
        "\n",
        "product_filtering_prompt = \"\"\"\n",
        "\n",
        "Given the following schema of a dataframe table,\n",
        "            your task is to figure out the best pandas query to\n",
        "            filter the dataframe based on the user query which\n",
        "            will be in natural language.\n",
        "\n",
        "            The schema is as follows:\n",
        "\n",
        "            #   Column        Non-Null Count  Dtype\n",
        "            ---  ------        --------------  -----\n",
        "            0   Product ID    30 non-null     object\n",
        "            1   Product Name  30 non-null     object\n",
        "            2   Category      30 non-null     object\n",
        "            3   Price_USD     30 non-null     int64\n",
        "            4   Description   30 non-null     object\n",
        "            5   Rating        30 non-null     float64\n",
        "\n",
        "            Category has values: ['Books','Electronics','Fashion',\n",
        "                                  'Toys & Games','Home & Kitchen']\n",
        "\n",
        "            Rating ranges from 1 - 5 in floats\n",
        "\n",
        "            You will try to figure out the pandas query focusing\n",
        "            only on Category, Price_USD and Rating if the user mentions\n",
        "            anything about these in their natural language query.\n",
        "            Do not make up column names, only use the above.\n",
        "            If not the pandas query should just return the full dataframe.\n",
        "            Remember the dataframe name is products_dataframe.\n",
        "\n",
        "            Just return only the pandas query and nothing else.\n",
        "            Do not return the results as markdown, just return the query\n",
        "\n",
        "            User Query: {user_query}\n",
        "\n",
        "            Pandas Query:\n",
        "        \"\"\"\n",
        "\n",
        "prompt_template_1 = ChatPromptTemplate.from_template(product_filtering_prompt)\n",
        "\n",
        "product_filtering_chain = prompt_template_1 | llama | StrOutputParser() | pandas_code_tool_executor\n",
        "\n",
        "product_filtering_result = product_filtering_chain.invoke({'user_query': 'looking for a product in the Electronics category with ratings above 4 and priced below 200'})\n",
        "\n",
        "print(product_filtering_result)"
      ],
      "metadata": {
        "colab": {
          "base_uri": "https://localhost:8080/"
        },
        "id": "nA2PHxP_kW4N",
        "outputId": "a1543220-5e58-40fc-9ffa-9b590c4705d6"
      },
      "execution_count": 8,
      "outputs": [
        {
          "output_type": "stream",
          "name": "stdout",
          "text": [
            "|    | Product ID   | Product Name      | Category    |   Price_USD | Description                                                                  |   Rating |\n",
            "|---:|:-------------|:------------------|:------------|------------:|:-----------------------------------------------------------------------------|---------:|\n",
            "| 33 | P00034       | Bluetooth Speaker | Electronics |       58.22 | 10W output; 12-hour battery; Water-resistant; Bluetooth 5.0                  |      4.7 |\n",
            "| 39 | P00040       | Laptop            | Electronics |      165.93 | Intel i7 processor; 16GB RAM; 512GB SSD; 15.6-inch FHD screen                |      4.2 |\n",
            "| 45 | P00046       | Bluetooth Speaker | Electronics |      105.5  | 10W output; 12-hour battery; Water-resistant; Bluetooth 5.0                  |      4.9 |\n",
            "| 69 | P00070       | Wireless Earbuds  | Electronics |       64.2  | Noise cancellation; Touch controls; 24-hour battery with case; Bluetooth 5.2 |      4.5 |\n",
            "| 78 | P00079       | Laptop            | Electronics |       50.25 | Intel i7 processor; 16GB RAM; 512GB SSD; 15.6-inch FHD screen                |      4.1 |\n",
            "| 95 | P00096       | Wireless Earbuds  | Electronics |       51.26 | Noise cancellation; Touch controls; 24-hour battery with case; Bluetooth 5.2 |      4.9 |\n"
          ]
        }
      ]
    },
    {
      "cell_type": "code",
      "source": [
        "product_recommendation_prompt = \"\"\"\n",
        "\n",
        "                       Act as an expert retail product advisor.\n",
        "\n",
        "                       Given the following table of products, focus on the product attributes and description in the table and based on the user query below do the following:\n",
        "\n",
        "                         - Recommend the most appropriate products based on the user query.\n",
        "\n",
        "                         - Recommedation should have product name, price, rating, description.\n",
        "\n",
        "                         - Also add a brief on why you recommend the product.\n",
        "\n",
        "                         - Do not make up products or recommend products that are not present in the table.\n",
        "\n",
        "                         - If some specifications do not match focus on the ones which match and recommend.\n",
        "\n",
        "                         - If nothing matches recommend 5 random products from the table.\n",
        "\n",
        "                         - Do not generate anything else except the fields mentioned above.\n",
        "\n",
        "Just in case if the user query is a generic query or greeting respond to them appropriately without recommending any products.\n",
        "\n",
        "Product Table:\n",
        "\n",
        "{product_filtering_result}\n",
        "\n",
        "User Query:\n",
        "\n",
        "{user_query}\n",
        "\n",
        "Recommendation:\n",
        "\n",
        "\"\"\"\n",
        "\n",
        "prompt_template_2 = ChatPromptTemplate.from_template(product_recommendation_prompt)\n",
        "\n",
        "product_recommendation_chain = prompt_template_2 | llama | StrOutputParser()\n",
        "\n",
        "product_recommendation_result = product_recommendation_chain.invoke({'product_filtering_result': product_filtering_result, 'user_query': 'Looking for a laptop with more than 8GB RAM'})\n",
        "\n",
        "print(product_recommendation_result)"
      ],
      "metadata": {
        "colab": {
          "base_uri": "https://localhost:8080/"
        },
        "id": "aJ8jloJljGq3",
        "outputId": "d148c91f-7d6c-4a79-ad3b-c906b3765858"
      },
      "execution_count": 9,
      "outputs": [
        {
          "output_type": "stream",
          "name": "stdout",
          "text": [
            "Product Name: Laptop\n",
            "Price: $165.93\n",
            "Rating: 4.2\n",
            "Description: Intel i7 processor; 16GB RAM; 512GB SSD; 15.6-inch FHD screen\n",
            "Brief: I recommend this product because it meets the user's requirement of having more than 8GB RAM, specifically 16GB RAM, making it a suitable option for their needs.\n",
            "\n",
            "Product Name: Laptop\n",
            "Price: $50.25\n",
            "Rating: 4.1\n",
            "Description: Intel i7 processor; 16GB RAM; 512GB SSD; 15.6-inch FHD screen\n",
            "Brief: I recommend this product because it also meets the user's requirement of having more than 8GB RAM, with 16GB RAM, and is another option to consider.\n"
          ]
        }
      ]
    },
    {
      "cell_type": "code",
      "source": [
        "product_browse_chain = {'user_query': itemgetter('user_query'), 'product_filtering_result': product_filtering_chain} | product_recommendation_chain\n",
        "\n",
        "product_browsing_result = product_browse_chain.invoke({'user_query': 'Looking for earbuds with a long lasting battery life and minimal charging needs!'})\n",
        "\n",
        "print(product_browsing_result)"
      ],
      "metadata": {
        "colab": {
          "base_uri": "https://localhost:8080/"
        },
        "id": "_Dl-G42iqniI",
        "outputId": "73ce9259-7876-4952-cad9-828e41d45173"
      },
      "execution_count": 10,
      "outputs": [
        {
          "output_type": "stream",
          "name": "stdout",
          "text": [
            "Product Name: Wireless Earbuds\n",
            "Price: $64.2\n",
            "Rating: 4.5\n",
            "Description: Noise cancellation; Touch controls; 24-hour battery with case; Bluetooth 5.2\n",
            "Why: I recommend this product because it has a 24-hour battery life with the case, which matches your requirement of long lasting battery life and minimal charging needs.\n",
            "\n",
            "Product Name: Wireless Earbuds\n",
            "Price: $244.95\n",
            "Rating: 4.2\n",
            "Description: Noise cancellation; Touch controls; 24-hour battery with case; Bluetooth 5.2\n",
            "Why: I recommend this product because it also has a 24-hour battery life with the case, which aligns with your need for long lasting battery life.\n",
            "\n",
            "Product Name: Wireless Earbuds\n",
            "Price: $834.09\n",
            "Rating: 4.9\n",
            "Description: Noise cancellation; Touch controls; 24-hour battery with case; Bluetooth 5.2\n",
            "Why: I recommend this product because it has a 24-hour battery life with the case and a high rating, making it a reliable choice for long lasting battery life.\n",
            "\n",
            "Product Name: Wireless Earbuds\n",
            "Price: $322.49\n",
            "Rating: 4.6\n",
            "Description: Noise cancellation; Touch controls; 24-hour battery with case; Bluetooth 5.2\n",
            "Why: I recommend this product because it has a 24-hour battery life with the case and a good rating, making it a suitable option for minimal charging needs.\n",
            "\n",
            "Product Name: Wireless Earbuds\n",
            "Price: $51.26\n",
            "Rating: 4.9\n",
            "Description: Noise cancellation; Touch controls; 24-hour battery with case; Bluetooth 5.2\n",
            "Why: I recommend this product because it has a 24-hour battery life with the case, a high rating, and a low price, making it a great value for long lasting battery life.\n"
          ]
        }
      ]
    },
    {
      "cell_type": "markdown",
      "source": [
        "**Historical Conversation Query Rephraser Chain**"
      ],
      "metadata": {
        "id": "_H3pdYOxOZQN"
      }
    },
    {
      "cell_type": "code",
      "source": [
        "from langchain_community.chat_message_histories import SQLChatMessageHistory\n",
        "\n",
        "from langchain_core.chat_history import BaseChatMessageHistory\n",
        "\n",
        "from langchain_core.runnables.history import RunnableWithMessageHistory\n",
        "\n",
        "from langchain_core.prompts import ChatPromptTemplate, MessagesPlaceholder\n",
        "\n",
        "from langchain_core.runnables import RunnablePassthrough\n",
        "\n",
        "from langchain_core.output_parsers import StrOutputParser\n",
        "\n",
        "\n",
        "def get_session_history(session_id):\n",
        "\n",
        "   db_url = 'sqlite:///conversation_history.db'\n",
        "\n",
        "   if db_url is not None:\n",
        "\n",
        "    print(f\"Established SQLite Database connection: {db_url}\")\n",
        "\n",
        "    return SQLChatMessageHistory(session_id=session_id, connection_string=db_url)"
      ],
      "metadata": {
        "id": "CoYZTbBtOkca"
      },
      "execution_count": 11,
      "outputs": []
    },
    {
      "cell_type": "code",
      "source": [
        "system_prompt = \"\"\"\n",
        "\n",
        "You are an ecommerce product expert. Your task is to carefully analyze the given conversation history\n",
        "\n",
        "and the current user query and rephrase the current user query to a standalone query which can be used without the history for making search queries.\n",
        "\n",
        "However rephrase only if needed. Strictly and only and only return the query and do not answer it.\n",
        "\n",
        "\"\"\"\n",
        "\n",
        "current_user_query = \"\"\"\n",
        "\n",
        "Current User Query:\n",
        "\n",
        "{current_user_query}\n",
        "\n",
        "\"\"\"\n",
        "\n",
        "product_conversation_history = ChatPromptTemplate.from_messages(\n",
        "\n",
        "                                                  [\n",
        "\n",
        "                                                      ('system', system_prompt),\n",
        "\n",
        "                                                      MessagesPlaceholder(variable_name='history'),\n",
        "\n",
        "                                                      ('user', current_user_query)\n",
        "                                                   ]\n",
        "\n",
        "     )"
      ],
      "metadata": {
        "id": "PJzwiQm_T5SU"
      },
      "execution_count": 16,
      "outputs": []
    },
    {
      "cell_type": "code",
      "source": [
        "#Memory buffer window function to return the last K conversations\n",
        "\n",
        "def memory_buffer_window(messages, k = 10):\n",
        "\n",
        "  return messages[-(k*2):]"
      ],
      "metadata": {
        "id": "jvYlucSGXEPW"
      },
      "execution_count": 17,
      "outputs": []
    },
    {
      "cell_type": "code",
      "source": [
        "rephrased_user_query_chain = RunnableWithMessageHistory(\n",
        "\n",
        "                                                        product_conversation_history,\n",
        "\n",
        "                                                        get_session_history,\n",
        "\n",
        "                                                        input_messages_key= 'current_user_query',\n",
        "\n",
        "                                                        history_messages_key= 'history'\n",
        ")"
      ],
      "metadata": {
        "id": "HnKpqveXaXvo"
      },
      "execution_count": 31,
      "outputs": []
    },
    {
      "cell_type": "code",
      "source": [
        "final_product_browsing_chain_flow = {'current_user_query': itemgetter('current_user_query')} | RunnablePassthrough.assign(user_query=rephrased_user_query_chain) | RunnablePassthrough.assign(product_filtering_result=product_filtering_chain) | product_recommendation_chain"
      ],
      "metadata": {
        "id": "lZaQ4oMGcUJ7"
      },
      "execution_count": 38,
      "outputs": []
    },
    {
      "cell_type": "markdown",
      "source": [
        "**Final Wrap Up: Integrating Memory**"
      ],
      "metadata": {
        "id": "yurf8vgZf5DG"
      }
    },
    {
      "cell_type": "code",
      "source": [
        "from rich.console import Console\n",
        "\n",
        "from rich.markdown import Markdown\n",
        "\n",
        "final_product_shopping_flow = RunnableWithMessageHistory(\n",
        "\n",
        "                                                         final_product_browsing_chain_flow,\n",
        "\n",
        "                                                         get_session_history,\n",
        "\n",
        "                                                         input_messages_key= 'current_user_query',\n",
        "\n",
        "                                                         history_messages_key= 'history'\n",
        ")\n",
        "\n",
        "def chat_with_e_commerce_agent(prompt: str, session_id: str):\n",
        "\n",
        "  response = final_product_shopping_flow.invoke({'current_user_query': prompt},  {'configurable': {'session_id' : session_id}})\n",
        "\n",
        "  console = Console()\n",
        "\n",
        "  console.print(Markdown(response))"
      ],
      "metadata": {
        "id": "bzS0KzK4gBmc"
      },
      "execution_count": 39,
      "outputs": []
    },
    {
      "cell_type": "code",
      "source": [
        "user_id = '0001'\n",
        "\n",
        "customer_prompt = 'I am looking for a laptop'\n",
        "\n",
        "chat_with_e_commerce_agent(customer_prompt, user_id)"
      ],
      "metadata": {
        "colab": {
          "base_uri": "https://localhost:8080/",
          "height": 393
        },
        "id": "VGgT7oXilOal",
        "outputId": "7fd4a02c-d17b-4f11-cab2-c9dcc73ca359"
      },
      "execution_count": 40,
      "outputs": [
        {
          "output_type": "stream",
          "name": "stderr",
          "text": [
            "WARNING:langchain_core.callbacks.manager:Error in RootListenersTracer.on_chain_end callback: ValueError('Expected str, BaseMessage, list[BaseMessage], or tuple[BaseMessage]. Got messages=[SystemMessage(content=\\'\\\\n\\\\nYou are an ecommerce product expert. Your task is to carefully analyze the given conversation history\\\\n\\\\nand the current user query and rephrase the current user query to a standalone query which can be used without the history for making search queries.\\\\n\\\\nHowever rephrase only if needed. Strictly and only and only return the query and do not answer it.\\\\n\\\\n\\', additional_kwargs={}, response_metadata={}), HumanMessage(content=\\'I am looking for a laptop\\', additional_kwargs={}, response_metadata={}), AIMessage(content=\"Product Name: Laptop\\\\nPrice: 408.08\\\\nRating: 4.8\\\\nDescription: Intel i7 processor; 16GB RAM; 512GB SSD; 15.6-inch FHD screen\\\\nI recommend this product because it matches the user\\'s query for a laptop and has a high rating of 4.8, indicating good performance and customer satisfaction.\\\\n\\\\nProduct Name: Laptop\\\\nPrice: 621.59\\\\nRating: 4.1\\\\nDescription: Intel i7 processor; 16GB RAM; 512GB SSD; 15.6-inch FHD screen\\\\nI recommend this product because it is another laptop option with similar specifications, although with a lower rating of 4.1.\\\\n\\\\nProduct Name: Laptop\\\\nPrice: 710.99\\\\nRating: 3.1\\\\nDescription: Intel i7 processor; 16GB RAM; 512GB SSD; 15.6-inch FHD screen\\\\nI recommend this product because it is a laptop option, but with a lower rating of 3.1, it may not be as highly rated as other options.\\\\n\\\\nProduct Name: Laptop\\\\nPrice: 553.46\\\\nRating: 3.6\\\\nDescription: Intel i7 processor; 16GB RAM; 512GB SSD; 15.6-inch FHD screen\\\\nI recommend this product because it is another laptop option with a rating of 3.6, which is relatively average.\\\\n\\\\nProduct Name: Laptop\\\\nPrice: 1015.98\\\\nRating: 3.8\\\\nDescription: Intel i7 processor; 16GB RAM; 512GB SSD; 15.6-inch FHD screen\\\\nI recommend this product because it is a higher-priced laptop option with a rating of 3.8, which may indicate better performance and features.\", additional_kwargs={}, response_metadata={}), HumanMessage(content=\\'\\\\n\\\\nCurrent User Query:\\\\n\\\\nI am looking for a laptop\\\\n\\\\n\\', additional_kwargs={}, response_metadata={})].')\n"
          ]
        },
        {
          "output_type": "stream",
          "name": "stdout",
          "text": [
            "Established SQLite Database connection: sqlite:///conversation_history.db\n",
            "Established SQLite Database connection: sqlite:///conversation_history.db\n"
          ]
        },
        {
          "output_type": "display_data",
          "data": {
            "text/plain": [
              "Product Name: Laptop Price: 408.08 Rating: 4.8 Description: Intel i7 processor; 16GB RAM; 512GB SSD; 15.6-inch FHD \n",
              "screen I recommend this product because it matches the user's query for a laptop and has a high rating of 4.8,     \n",
              "indicating good performance and customer satisfaction.                                                             \n",
              "\n",
              "Product Name: Laptop Price: 621.59 Rating: 4.1 Description: Intel i7 processor; 16GB RAM; 512GB SSD; 15.6-inch FHD \n",
              "screen I recommend this product because it is another laptop option with similar specifications, although with a   \n",
              "lower rating of 4.1.                                                                                               \n",
              "\n",
              "Product Name: Laptop Price: 710.99 Rating: 3.1 Description: Intel i7 processor; 16GB RAM; 512GB SSD; 15.6-inch FHD \n",
              "screen I recommend this product because it is a laptop option, but with a lower rating of 3.1, it may not be as    \n",
              "highly rated as other options.                                                                                     \n",
              "\n",
              "Product Name: Laptop Price: 553.46 Rating: 3.6 Description: Intel i7 processor; 16GB RAM; 512GB SSD; 15.6-inch FHD \n",
              "screen I recommend this product because it is another laptop option with a rating of 3.6, which is relatively      \n",
              "average.                                                                                                           \n",
              "\n",
              "Product Name: Laptop Price: 1015.98 Rating: 3.8 Description: Intel i7 processor; 16GB RAM; 512GB SSD; 15.6-inch FHD\n",
              "screen I recommend this product because it is a higher-priced laptop option with a rating of 3.8, which may        \n",
              "indicate better performance and features.                                                                          \n"
            ],
            "text/html": [
              "<pre style=\"white-space:pre;overflow-x:auto;line-height:normal;font-family:Menlo,'DejaVu Sans Mono',consolas,'Courier New',monospace\">Product Name: Laptop Price: 408.08 Rating: 4.8 Description: Intel i7 processor; 16GB RAM; 512GB SSD; 15.6-inch FHD \n",
              "screen I recommend this product because it matches the user's query for a laptop and has a high rating of 4.8,     \n",
              "indicating good performance and customer satisfaction.                                                             \n",
              "\n",
              "Product Name: Laptop Price: 621.59 Rating: 4.1 Description: Intel i7 processor; 16GB RAM; 512GB SSD; 15.6-inch FHD \n",
              "screen I recommend this product because it is another laptop option with similar specifications, although with a   \n",
              "lower rating of 4.1.                                                                                               \n",
              "\n",
              "Product Name: Laptop Price: 710.99 Rating: 3.1 Description: Intel i7 processor; 16GB RAM; 512GB SSD; 15.6-inch FHD \n",
              "screen I recommend this product because it is a laptop option, but with a lower rating of 3.1, it may not be as    \n",
              "highly rated as other options.                                                                                     \n",
              "\n",
              "Product Name: Laptop Price: 553.46 Rating: 3.6 Description: Intel i7 processor; 16GB RAM; 512GB SSD; 15.6-inch FHD \n",
              "screen I recommend this product because it is another laptop option with a rating of 3.6, which is relatively      \n",
              "average.                                                                                                           \n",
              "\n",
              "Product Name: Laptop Price: 1015.98 Rating: 3.8 Description: Intel i7 processor; 16GB RAM; 512GB SSD; 15.6-inch FHD\n",
              "screen I recommend this product because it is a higher-priced laptop option with a rating of 3.8, which may        \n",
              "indicate better performance and features.                                                                          \n",
              "</pre>\n"
            ]
          },
          "metadata": {}
        }
      ]
    },
    {
      "cell_type": "code",
      "source": [
        "user_id = '0001'\n",
        "\n",
        "customer_prompt = \"I want in the range 150 - 300\"\n",
        "\n",
        "chat_with_e_commerce_agent(customer_prompt, user_id)"
      ],
      "metadata": {
        "id": "n-8RerGIy5J-",
        "colab": {
          "base_uri": "https://localhost:8080/",
          "height": 409
        },
        "outputId": "9f4dcbe9-b8ca-4d0f-ea32-32ed24260ddf"
      },
      "execution_count": 41,
      "outputs": [
        {
          "output_type": "stream",
          "name": "stderr",
          "text": [
            "WARNING:langchain_core.callbacks.manager:Error in RootListenersTracer.on_chain_end callback: ValueError('Expected str, BaseMessage, list[BaseMessage], or tuple[BaseMessage]. Got messages=[SystemMessage(content=\\'\\\\n\\\\nYou are an ecommerce product expert. Your task is to carefully analyze the given conversation history\\\\n\\\\nand the current user query and rephrase the current user query to a standalone query which can be used without the history for making search queries.\\\\n\\\\nHowever rephrase only if needed. Strictly and only and only return the query and do not answer it.\\\\n\\\\n\\', additional_kwargs={}, response_metadata={}), HumanMessage(content=\\'I am looking for a laptop\\', additional_kwargs={}, response_metadata={}), AIMessage(content=\"Product Name: Laptop\\\\nPrice: 408.08\\\\nRating: 4.8\\\\nDescription: Intel i7 processor; 16GB RAM; 512GB SSD; 15.6-inch FHD screen\\\\nI recommend this product because it matches the user\\'s query for a laptop and has a high rating of 4.8, indicating good performance and customer satisfaction.\\\\n\\\\nProduct Name: Laptop\\\\nPrice: 621.59\\\\nRating: 4.1\\\\nDescription: Intel i7 processor; 16GB RAM; 512GB SSD; 15.6-inch FHD screen\\\\nI recommend this product because it is another laptop option with similar specifications, although with a lower rating of 4.1.\\\\n\\\\nProduct Name: Laptop\\\\nPrice: 710.99\\\\nRating: 3.1\\\\nDescription: Intel i7 processor; 16GB RAM; 512GB SSD; 15.6-inch FHD screen\\\\nI recommend this product because it is a laptop option, but with a lower rating of 3.1, it may not be as highly rated as other options.\\\\n\\\\nProduct Name: Laptop\\\\nPrice: 553.46\\\\nRating: 3.6\\\\nDescription: Intel i7 processor; 16GB RAM; 512GB SSD; 15.6-inch FHD screen\\\\nI recommend this product because it is another laptop option with a rating of 3.6, which is relatively average.\\\\n\\\\nProduct Name: Laptop\\\\nPrice: 1015.98\\\\nRating: 3.8\\\\nDescription: Intel i7 processor; 16GB RAM; 512GB SSD; 15.6-inch FHD screen\\\\nI recommend this product because it is a higher-priced laptop option with a rating of 3.8, which may indicate better performance and features.\", additional_kwargs={}, response_metadata={}), HumanMessage(content=\\'I am looking for a laptop\\', additional_kwargs={}, response_metadata={}), AIMessage(content=\"Product Name: Laptop\\\\nPrice: 408.08\\\\nRating: 4.8\\\\nDescription: Intel i7 processor; 16GB RAM; 512GB SSD; 15.6-inch FHD screen\\\\nI recommend this product because it matches the user\\'s query for a laptop and has a high rating of 4.8, indicating good performance and customer satisfaction.\\\\n\\\\nProduct Name: Laptop\\\\nPrice: 621.59\\\\nRating: 4.1\\\\nDescription: Intel i7 processor; 16GB RAM; 512GB SSD; 15.6-inch FHD screen\\\\nI recommend this product because it is another laptop option with similar specifications, although with a lower rating of 4.1.\\\\n\\\\nProduct Name: Laptop\\\\nPrice: 710.99\\\\nRating: 3.1\\\\nDescription: Intel i7 processor; 16GB RAM; 512GB SSD; 15.6-inch FHD screen\\\\nI recommend this product because it is a laptop option, but with a lower rating of 3.1, it may not be as highly rated as other options.\\\\n\\\\nProduct Name: Laptop\\\\nPrice: 553.46\\\\nRating: 3.6\\\\nDescription: Intel i7 processor; 16GB RAM; 512GB SSD; 15.6-inch FHD screen\\\\nI recommend this product because it is another laptop option with a rating of 3.6, which is relatively average.\\\\n\\\\nProduct Name: Laptop\\\\nPrice: 1015.98\\\\nRating: 3.8\\\\nDescription: Intel i7 processor; 16GB RAM; 512GB SSD; 15.6-inch FHD screen\\\\nI recommend this product because it is a higher-priced laptop option with a rating of 3.8, which may indicate better performance and features.\", additional_kwargs={}, response_metadata={}), HumanMessage(content=\\'\\\\n\\\\nCurrent User Query:\\\\n\\\\nI want in the range 150 - 300\\\\n\\\\n\\', additional_kwargs={}, response_metadata={})].')\n"
          ]
        },
        {
          "output_type": "stream",
          "name": "stdout",
          "text": [
            "Established SQLite Database connection: sqlite:///conversation_history.db\n",
            "Established SQLite Database connection: sqlite:///conversation_history.db\n"
          ]
        },
        {
          "output_type": "display_data",
          "data": {
            "text/plain": [
              "Product Name: Laptop Price: 165.93 Rating: 4.2 Description: Intel i7 processor; 16GB RAM; 512GB SSD; 15.6-inch FHD \n",
              "screen I recommend this product because it matches the user's query for a laptop and falls within the specified    \n",
              "price range of 150-300.                                                                                            \n",
              "\n",
              "Since there is only one laptop in the given price range, I will recommend four more random products from the table:\n",
              "\n",
              "Product Name: Smartphone Price: 190.5 Rating: 3.9 Description: 6.5-inch OLED display; 128GB storage; Triple-lens   \n",
              "camera; 5G connectivity I recommend this product because it is a high-end smartphone with advanced features.       \n",
              "\n",
              "Product Name: Smartphone Price: 165.03 Rating: 3.8 Description: 6.5-inch OLED display; 128GB storage; Triple-lens  \n",
              "camera; 5G connectivity I recommend this product because it is another smartphone option with similar              \n",
              "specifications.                                                                                                    \n",
              "\n",
              "Product Name: Smartwatch Price: 213.87 Rating: 4.8 Description: Heart rate monitor; GPS tracking; AMOLED display;  \n",
              "7-day battery life I recommend this product because it is a highly-rated smartwatch with advanced health and       \n",
              "fitness features.                                                                                                  \n",
              "\n",
              "Product Name: Wireless Earbuds Price: 244.95 Rating: 4.2 Description: Noise cancellation; Touch controls; 24-hour  \n",
              "battery with case; Bluetooth 5.2 I recommend this product because it is a high-quality audio device with advanced  \n",
              "features.                                                                                                          \n"
            ],
            "text/html": [
              "<pre style=\"white-space:pre;overflow-x:auto;line-height:normal;font-family:Menlo,'DejaVu Sans Mono',consolas,'Courier New',monospace\">Product Name: Laptop Price: 165.93 Rating: 4.2 Description: Intel i7 processor; 16GB RAM; 512GB SSD; 15.6-inch FHD \n",
              "screen I recommend this product because it matches the user's query for a laptop and falls within the specified    \n",
              "price range of 150-300.                                                                                            \n",
              "\n",
              "Since there is only one laptop in the given price range, I will recommend four more random products from the table:\n",
              "\n",
              "Product Name: Smartphone Price: 190.5 Rating: 3.9 Description: 6.5-inch OLED display; 128GB storage; Triple-lens   \n",
              "camera; 5G connectivity I recommend this product because it is a high-end smartphone with advanced features.       \n",
              "\n",
              "Product Name: Smartphone Price: 165.03 Rating: 3.8 Description: 6.5-inch OLED display; 128GB storage; Triple-lens  \n",
              "camera; 5G connectivity I recommend this product because it is another smartphone option with similar              \n",
              "specifications.                                                                                                    \n",
              "\n",
              "Product Name: Smartwatch Price: 213.87 Rating: 4.8 Description: Heart rate monitor; GPS tracking; AMOLED display;  \n",
              "7-day battery life I recommend this product because it is a highly-rated smartwatch with advanced health and       \n",
              "fitness features.                                                                                                  \n",
              "\n",
              "Product Name: Wireless Earbuds Price: 244.95 Rating: 4.2 Description: Noise cancellation; Touch controls; 24-hour  \n",
              "battery with case; Bluetooth 5.2 I recommend this product because it is a high-quality audio device with advanced  \n",
              "features.                                                                                                          \n",
              "</pre>\n"
            ]
          },
          "metadata": {}
        }
      ]
    },
    {
      "cell_type": "code",
      "source": [
        "user_id = '0001'\n",
        "\n",
        "customer_prompt = 'What is the color of this laptop by the way?'\n",
        "\n",
        "chat_with_e_commerce_agent(customer_prompt, user_id)"
      ],
      "metadata": {
        "colab": {
          "base_uri": "https://localhost:8080/",
          "height": 105
        },
        "id": "Ps5BZkvrJAQ-",
        "outputId": "89c4e07a-6677-4c22-e81a-2225646e7667"
      },
      "execution_count": 42,
      "outputs": [
        {
          "output_type": "stream",
          "name": "stderr",
          "text": [
            "WARNING:langchain_core.callbacks.manager:Error in RootListenersTracer.on_chain_end callback: ValueError('Expected str, BaseMessage, list[BaseMessage], or tuple[BaseMessage]. Got messages=[SystemMessage(content=\\'\\\\n\\\\nYou are an ecommerce product expert. Your task is to carefully analyze the given conversation history\\\\n\\\\nand the current user query and rephrase the current user query to a standalone query which can be used without the history for making search queries.\\\\n\\\\nHowever rephrase only if needed. Strictly and only and only return the query and do not answer it.\\\\n\\\\n\\', additional_kwargs={}, response_metadata={}), HumanMessage(content=\\'I am looking for a laptop\\', additional_kwargs={}, response_metadata={}), AIMessage(content=\"Product Name: Laptop\\\\nPrice: 408.08\\\\nRating: 4.8\\\\nDescription: Intel i7 processor; 16GB RAM; 512GB SSD; 15.6-inch FHD screen\\\\nI recommend this product because it matches the user\\'s query for a laptop and has a high rating of 4.8, indicating good performance and customer satisfaction.\\\\n\\\\nProduct Name: Laptop\\\\nPrice: 621.59\\\\nRating: 4.1\\\\nDescription: Intel i7 processor; 16GB RAM; 512GB SSD; 15.6-inch FHD screen\\\\nI recommend this product because it is another laptop option with similar specifications, although with a lower rating of 4.1.\\\\n\\\\nProduct Name: Laptop\\\\nPrice: 710.99\\\\nRating: 3.1\\\\nDescription: Intel i7 processor; 16GB RAM; 512GB SSD; 15.6-inch FHD screen\\\\nI recommend this product because it is a laptop option, but with a lower rating of 3.1, it may not be as highly rated as other options.\\\\n\\\\nProduct Name: Laptop\\\\nPrice: 553.46\\\\nRating: 3.6\\\\nDescription: Intel i7 processor; 16GB RAM; 512GB SSD; 15.6-inch FHD screen\\\\nI recommend this product because it is another laptop option with a rating of 3.6, which is relatively average.\\\\n\\\\nProduct Name: Laptop\\\\nPrice: 1015.98\\\\nRating: 3.8\\\\nDescription: Intel i7 processor; 16GB RAM; 512GB SSD; 15.6-inch FHD screen\\\\nI recommend this product because it is a higher-priced laptop option with a rating of 3.8, which may indicate better performance and features.\", additional_kwargs={}, response_metadata={}), HumanMessage(content=\\'I am looking for a laptop\\', additional_kwargs={}, response_metadata={}), AIMessage(content=\"Product Name: Laptop\\\\nPrice: 408.08\\\\nRating: 4.8\\\\nDescription: Intel i7 processor; 16GB RAM; 512GB SSD; 15.6-inch FHD screen\\\\nI recommend this product because it matches the user\\'s query for a laptop and has a high rating of 4.8, indicating good performance and customer satisfaction.\\\\n\\\\nProduct Name: Laptop\\\\nPrice: 621.59\\\\nRating: 4.1\\\\nDescription: Intel i7 processor; 16GB RAM; 512GB SSD; 15.6-inch FHD screen\\\\nI recommend this product because it is another laptop option with similar specifications, although with a lower rating of 4.1.\\\\n\\\\nProduct Name: Laptop\\\\nPrice: 710.99\\\\nRating: 3.1\\\\nDescription: Intel i7 processor; 16GB RAM; 512GB SSD; 15.6-inch FHD screen\\\\nI recommend this product because it is a laptop option, but with a lower rating of 3.1, it may not be as highly rated as other options.\\\\n\\\\nProduct Name: Laptop\\\\nPrice: 553.46\\\\nRating: 3.6\\\\nDescription: Intel i7 processor; 16GB RAM; 512GB SSD; 15.6-inch FHD screen\\\\nI recommend this product because it is another laptop option with a rating of 3.6, which is relatively average.\\\\n\\\\nProduct Name: Laptop\\\\nPrice: 1015.98\\\\nRating: 3.8\\\\nDescription: Intel i7 processor; 16GB RAM; 512GB SSD; 15.6-inch FHD screen\\\\nI recommend this product because it is a higher-priced laptop option with a rating of 3.8, which may indicate better performance and features.\", additional_kwargs={}, response_metadata={}), HumanMessage(content=\\'I want in the range 150 - 300\\', additional_kwargs={}, response_metadata={}), AIMessage(content=\"Product Name: Laptop\\\\nPrice: 165.93\\\\nRating: 4.2\\\\nDescription: Intel i7 processor; 16GB RAM; 512GB SSD; 15.6-inch FHD screen\\\\nI recommend this product because it matches the user\\'s query for a laptop and falls within the specified price range of 150-300. \\\\n\\\\nSince there is only one laptop in the given price range, I will recommend four more random products from the table:\\\\n\\\\nProduct Name: Smartphone\\\\nPrice: 190.5\\\\nRating: 3.9\\\\nDescription: 6.5-inch OLED display; 128GB storage; Triple-lens camera; 5G connectivity\\\\nI recommend this product because it is a high-end smartphone with advanced features.\\\\n\\\\nProduct Name: Smartphone\\\\nPrice: 165.03\\\\nRating: 3.8\\\\nDescription: 6.5-inch OLED display; 128GB storage; Triple-lens camera; 5G connectivity\\\\nI recommend this product because it is another smartphone option with similar specifications.\\\\n\\\\nProduct Name: Smartwatch\\\\nPrice: 213.87\\\\nRating: 4.8\\\\nDescription: Heart rate monitor; GPS tracking; AMOLED display; 7-day battery life\\\\nI recommend this product because it is a highly-rated smartwatch with advanced health and fitness features.\\\\n\\\\nProduct Name: Wireless Earbuds\\\\nPrice: 244.95\\\\nRating: 4.2\\\\nDescription: Noise cancellation; Touch controls; 24-hour battery with case; Bluetooth 5.2\\\\nI recommend this product because it is a high-quality audio device with advanced features.\", additional_kwargs={}, response_metadata={}), HumanMessage(content=\\'\\\\n\\\\nCurrent User Query:\\\\n\\\\nWhat is the color of this laptop by the way?\\\\n\\\\n\\', additional_kwargs={}, response_metadata={})].')\n"
          ]
        },
        {
          "output_type": "stream",
          "name": "stdout",
          "text": [
            "Established SQLite Database connection: sqlite:///conversation_history.db\n",
            "Established SQLite Database connection: sqlite:///conversation_history.db\n"
          ]
        },
        {
          "output_type": "display_data",
          "data": {
            "text/plain": [
              "I am looking for the color of a laptop                                                                             \n"
            ],
            "text/html": [
              "<pre style=\"white-space:pre;overflow-x:auto;line-height:normal;font-family:Menlo,'DejaVu Sans Mono',consolas,'Courier New',monospace\">I am looking for the color of a laptop                                                                             \n",
              "</pre>\n"
            ]
          },
          "metadata": {}
        }
      ]
    },
    {
      "cell_type": "code",
      "source": [
        "user_id = '0001'\n",
        "\n",
        "customer_prompt = 'Can you tell about the the features of this laptop?'\n",
        "\n",
        "chat_with_e_commerce_agent(customer_prompt, user_id)"
      ],
      "metadata": {
        "colab": {
          "base_uri": "https://localhost:8080/",
          "height": 329
        },
        "id": "79kYi9xMJlAG",
        "outputId": "6ef73759-4f1d-4ea9-d844-f4f388dbdb35"
      },
      "execution_count": 43,
      "outputs": [
        {
          "output_type": "stream",
          "name": "stderr",
          "text": [
            "WARNING:langchain_core.callbacks.manager:Error in RootListenersTracer.on_chain_end callback: ValueError('Expected str, BaseMessage, list[BaseMessage], or tuple[BaseMessage]. Got messages=[SystemMessage(content=\\'\\\\n\\\\nYou are an ecommerce product expert. Your task is to carefully analyze the given conversation history\\\\n\\\\nand the current user query and rephrase the current user query to a standalone query which can be used without the history for making search queries.\\\\n\\\\nHowever rephrase only if needed. Strictly and only and only return the query and do not answer it.\\\\n\\\\n\\', additional_kwargs={}, response_metadata={}), HumanMessage(content=\\'I am looking for a laptop\\', additional_kwargs={}, response_metadata={}), AIMessage(content=\"Product Name: Laptop\\\\nPrice: 408.08\\\\nRating: 4.8\\\\nDescription: Intel i7 processor; 16GB RAM; 512GB SSD; 15.6-inch FHD screen\\\\nI recommend this product because it matches the user\\'s query for a laptop and has a high rating of 4.8, indicating good performance and customer satisfaction.\\\\n\\\\nProduct Name: Laptop\\\\nPrice: 621.59\\\\nRating: 4.1\\\\nDescription: Intel i7 processor; 16GB RAM; 512GB SSD; 15.6-inch FHD screen\\\\nI recommend this product because it is another laptop option with similar specifications, although with a lower rating of 4.1.\\\\n\\\\nProduct Name: Laptop\\\\nPrice: 710.99\\\\nRating: 3.1\\\\nDescription: Intel i7 processor; 16GB RAM; 512GB SSD; 15.6-inch FHD screen\\\\nI recommend this product because it is a laptop option, but with a lower rating of 3.1, it may not be as highly rated as other options.\\\\n\\\\nProduct Name: Laptop\\\\nPrice: 553.46\\\\nRating: 3.6\\\\nDescription: Intel i7 processor; 16GB RAM; 512GB SSD; 15.6-inch FHD screen\\\\nI recommend this product because it is another laptop option with a rating of 3.6, which is relatively average.\\\\n\\\\nProduct Name: Laptop\\\\nPrice: 1015.98\\\\nRating: 3.8\\\\nDescription: Intel i7 processor; 16GB RAM; 512GB SSD; 15.6-inch FHD screen\\\\nI recommend this product because it is a higher-priced laptop option with a rating of 3.8, which may indicate better performance and features.\", additional_kwargs={}, response_metadata={}), HumanMessage(content=\\'I am looking for a laptop\\', additional_kwargs={}, response_metadata={}), AIMessage(content=\"Product Name: Laptop\\\\nPrice: 408.08\\\\nRating: 4.8\\\\nDescription: Intel i7 processor; 16GB RAM; 512GB SSD; 15.6-inch FHD screen\\\\nI recommend this product because it matches the user\\'s query for a laptop and has a high rating of 4.8, indicating good performance and customer satisfaction.\\\\n\\\\nProduct Name: Laptop\\\\nPrice: 621.59\\\\nRating: 4.1\\\\nDescription: Intel i7 processor; 16GB RAM; 512GB SSD; 15.6-inch FHD screen\\\\nI recommend this product because it is another laptop option with similar specifications, although with a lower rating of 4.1.\\\\n\\\\nProduct Name: Laptop\\\\nPrice: 710.99\\\\nRating: 3.1\\\\nDescription: Intel i7 processor; 16GB RAM; 512GB SSD; 15.6-inch FHD screen\\\\nI recommend this product because it is a laptop option, but with a lower rating of 3.1, it may not be as highly rated as other options.\\\\n\\\\nProduct Name: Laptop\\\\nPrice: 553.46\\\\nRating: 3.6\\\\nDescription: Intel i7 processor; 16GB RAM; 512GB SSD; 15.6-inch FHD screen\\\\nI recommend this product because it is another laptop option with a rating of 3.6, which is relatively average.\\\\n\\\\nProduct Name: Laptop\\\\nPrice: 1015.98\\\\nRating: 3.8\\\\nDescription: Intel i7 processor; 16GB RAM; 512GB SSD; 15.6-inch FHD screen\\\\nI recommend this product because it is a higher-priced laptop option with a rating of 3.8, which may indicate better performance and features.\", additional_kwargs={}, response_metadata={}), HumanMessage(content=\\'I want in the range 150 - 300\\', additional_kwargs={}, response_metadata={}), AIMessage(content=\"Product Name: Laptop\\\\nPrice: 165.93\\\\nRating: 4.2\\\\nDescription: Intel i7 processor; 16GB RAM; 512GB SSD; 15.6-inch FHD screen\\\\nI recommend this product because it matches the user\\'s query for a laptop and falls within the specified price range of 150-300. \\\\n\\\\nSince there is only one laptop in the given price range, I will recommend four more random products from the table:\\\\n\\\\nProduct Name: Smartphone\\\\nPrice: 190.5\\\\nRating: 3.9\\\\nDescription: 6.5-inch OLED display; 128GB storage; Triple-lens camera; 5G connectivity\\\\nI recommend this product because it is a high-end smartphone with advanced features.\\\\n\\\\nProduct Name: Smartphone\\\\nPrice: 165.03\\\\nRating: 3.8\\\\nDescription: 6.5-inch OLED display; 128GB storage; Triple-lens camera; 5G connectivity\\\\nI recommend this product because it is another smartphone option with similar specifications.\\\\n\\\\nProduct Name: Smartwatch\\\\nPrice: 213.87\\\\nRating: 4.8\\\\nDescription: Heart rate monitor; GPS tracking; AMOLED display; 7-day battery life\\\\nI recommend this product because it is a highly-rated smartwatch with advanced health and fitness features.\\\\n\\\\nProduct Name: Wireless Earbuds\\\\nPrice: 244.95\\\\nRating: 4.2\\\\nDescription: Noise cancellation; Touch controls; 24-hour battery with case; Bluetooth 5.2\\\\nI recommend this product because it is a high-quality audio device with advanced features.\", additional_kwargs={}, response_metadata={}), HumanMessage(content=\\'What is the color of this laptop by the way?\\', additional_kwargs={}, response_metadata={}), AIMessage(content=\\'I am looking for the color of a laptop\\', additional_kwargs={}, response_metadata={}), HumanMessage(content=\\'\\\\n\\\\nCurrent User Query:\\\\n\\\\nCan you tell about the the features of this laptop?\\\\n\\\\n\\', additional_kwargs={}, response_metadata={})].')\n"
          ]
        },
        {
          "output_type": "stream",
          "name": "stdout",
          "text": [
            "Established SQLite Database connection: sqlite:///conversation_history.db\n",
            "Established SQLite Database connection: sqlite:///conversation_history.db\n"
          ]
        },
        {
          "output_type": "display_data",
          "data": {
            "text/plain": [
              "Product Name: Laptop Price: 165.93 Rating: 4.2 Description: Intel i7 processor; 16GB RAM; 512GB SSD; 15.6-inch FHD \n",
              "screen I recommend this product because it matches the user's query for a laptop and its features are being        \n",
              "inquired about.                                                                                                    \n",
              "\n",
              "Product Name: Laptop Price: 408.08 Rating: 4.8 Description: Intel i7 processor; 16GB RAM; 512GB SSD; 15.6-inch FHD \n",
              "screen I recommend this product because it is a laptop option with high ratings and similar features.              \n",
              "\n",
              "Product Name: Laptop Price: 553.46 Rating: 3.6 Description: Intel i7 processor; 16GB RAM; 512GB SSD; 15.6-inch FHD \n",
              "screen I recommend this product because it is another laptop option with similar features.                         \n",
              "\n",
              "Product Name: Laptop Price: 621.59 Rating: 4.1 Description: Intel i7 processor; 16GB RAM; 512GB SSD; 15.6-inch FHD \n",
              "screen I recommend this product because it is a laptop option with similar features and a relatively high rating.  \n",
              "\n",
              "Product Name: Laptop Price: 710.99 Rating: 3.1 Description: Intel i7 processor; 16GB RAM; 512GB SSD; 15.6-inch FHD \n",
              "screen I recommend this product because it is a laptop option with similar features, although with a lower rating. \n"
            ],
            "text/html": [
              "<pre style=\"white-space:pre;overflow-x:auto;line-height:normal;font-family:Menlo,'DejaVu Sans Mono',consolas,'Courier New',monospace\">Product Name: Laptop Price: 165.93 Rating: 4.2 Description: Intel i7 processor; 16GB RAM; 512GB SSD; 15.6-inch FHD \n",
              "screen I recommend this product because it matches the user's query for a laptop and its features are being        \n",
              "inquired about.                                                                                                    \n",
              "\n",
              "Product Name: Laptop Price: 408.08 Rating: 4.8 Description: Intel i7 processor; 16GB RAM; 512GB SSD; 15.6-inch FHD \n",
              "screen I recommend this product because it is a laptop option with high ratings and similar features.              \n",
              "\n",
              "Product Name: Laptop Price: 553.46 Rating: 3.6 Description: Intel i7 processor; 16GB RAM; 512GB SSD; 15.6-inch FHD \n",
              "screen I recommend this product because it is another laptop option with similar features.                         \n",
              "\n",
              "Product Name: Laptop Price: 621.59 Rating: 4.1 Description: Intel i7 processor; 16GB RAM; 512GB SSD; 15.6-inch FHD \n",
              "screen I recommend this product because it is a laptop option with similar features and a relatively high rating.  \n",
              "\n",
              "Product Name: Laptop Price: 710.99 Rating: 3.1 Description: Intel i7 processor; 16GB RAM; 512GB SSD; 15.6-inch FHD \n",
              "screen I recommend this product because it is a laptop option with similar features, although with a lower rating. \n",
              "</pre>\n"
            ]
          },
          "metadata": {}
        }
      ]
    },
    {
      "cell_type": "code",
      "source": [
        "user_id = '0001'\n",
        "\n",
        "customer_prompt = 'So what have we discussed so far?'\n",
        "\n",
        "chat_with_e_commerce_agent(customer_prompt, user_id)"
      ],
      "metadata": {
        "colab": {
          "base_uri": "https://localhost:8080/",
          "height": 121
        },
        "id": "qFT7JZdKKHZO",
        "outputId": "fc09f72c-e5e8-4c0e-cc58-2bd2a70786f8"
      },
      "execution_count": 44,
      "outputs": [
        {
          "output_type": "stream",
          "name": "stderr",
          "text": [
            "WARNING:langchain_core.callbacks.manager:Error in RootListenersTracer.on_chain_end callback: ValueError('Expected str, BaseMessage, list[BaseMessage], or tuple[BaseMessage]. Got messages=[SystemMessage(content=\\'\\\\n\\\\nYou are an ecommerce product expert. Your task is to carefully analyze the given conversation history\\\\n\\\\nand the current user query and rephrase the current user query to a standalone query which can be used without the history for making search queries.\\\\n\\\\nHowever rephrase only if needed. Strictly and only and only return the query and do not answer it.\\\\n\\\\n\\', additional_kwargs={}, response_metadata={}), HumanMessage(content=\\'I am looking for a laptop\\', additional_kwargs={}, response_metadata={}), AIMessage(content=\"Product Name: Laptop\\\\nPrice: 408.08\\\\nRating: 4.8\\\\nDescription: Intel i7 processor; 16GB RAM; 512GB SSD; 15.6-inch FHD screen\\\\nI recommend this product because it matches the user\\'s query for a laptop and has a high rating of 4.8, indicating good performance and customer satisfaction.\\\\n\\\\nProduct Name: Laptop\\\\nPrice: 621.59\\\\nRating: 4.1\\\\nDescription: Intel i7 processor; 16GB RAM; 512GB SSD; 15.6-inch FHD screen\\\\nI recommend this product because it is another laptop option with similar specifications, although with a lower rating of 4.1.\\\\n\\\\nProduct Name: Laptop\\\\nPrice: 710.99\\\\nRating: 3.1\\\\nDescription: Intel i7 processor; 16GB RAM; 512GB SSD; 15.6-inch FHD screen\\\\nI recommend this product because it is a laptop option, but with a lower rating of 3.1, it may not be as highly rated as other options.\\\\n\\\\nProduct Name: Laptop\\\\nPrice: 553.46\\\\nRating: 3.6\\\\nDescription: Intel i7 processor; 16GB RAM; 512GB SSD; 15.6-inch FHD screen\\\\nI recommend this product because it is another laptop option with a rating of 3.6, which is relatively average.\\\\n\\\\nProduct Name: Laptop\\\\nPrice: 1015.98\\\\nRating: 3.8\\\\nDescription: Intel i7 processor; 16GB RAM; 512GB SSD; 15.6-inch FHD screen\\\\nI recommend this product because it is a higher-priced laptop option with a rating of 3.8, which may indicate better performance and features.\", additional_kwargs={}, response_metadata={}), HumanMessage(content=\\'I am looking for a laptop\\', additional_kwargs={}, response_metadata={}), AIMessage(content=\"Product Name: Laptop\\\\nPrice: 408.08\\\\nRating: 4.8\\\\nDescription: Intel i7 processor; 16GB RAM; 512GB SSD; 15.6-inch FHD screen\\\\nI recommend this product because it matches the user\\'s query for a laptop and has a high rating of 4.8, indicating good performance and customer satisfaction.\\\\n\\\\nProduct Name: Laptop\\\\nPrice: 621.59\\\\nRating: 4.1\\\\nDescription: Intel i7 processor; 16GB RAM; 512GB SSD; 15.6-inch FHD screen\\\\nI recommend this product because it is another laptop option with similar specifications, although with a lower rating of 4.1.\\\\n\\\\nProduct Name: Laptop\\\\nPrice: 710.99\\\\nRating: 3.1\\\\nDescription: Intel i7 processor; 16GB RAM; 512GB SSD; 15.6-inch FHD screen\\\\nI recommend this product because it is a laptop option, but with a lower rating of 3.1, it may not be as highly rated as other options.\\\\n\\\\nProduct Name: Laptop\\\\nPrice: 553.46\\\\nRating: 3.6\\\\nDescription: Intel i7 processor; 16GB RAM; 512GB SSD; 15.6-inch FHD screen\\\\nI recommend this product because it is another laptop option with a rating of 3.6, which is relatively average.\\\\n\\\\nProduct Name: Laptop\\\\nPrice: 1015.98\\\\nRating: 3.8\\\\nDescription: Intel i7 processor; 16GB RAM; 512GB SSD; 15.6-inch FHD screen\\\\nI recommend this product because it is a higher-priced laptop option with a rating of 3.8, which may indicate better performance and features.\", additional_kwargs={}, response_metadata={}), HumanMessage(content=\\'I want in the range 150 - 300\\', additional_kwargs={}, response_metadata={}), AIMessage(content=\"Product Name: Laptop\\\\nPrice: 165.93\\\\nRating: 4.2\\\\nDescription: Intel i7 processor; 16GB RAM; 512GB SSD; 15.6-inch FHD screen\\\\nI recommend this product because it matches the user\\'s query for a laptop and falls within the specified price range of 150-300. \\\\n\\\\nSince there is only one laptop in the given price range, I will recommend four more random products from the table:\\\\n\\\\nProduct Name: Smartphone\\\\nPrice: 190.5\\\\nRating: 3.9\\\\nDescription: 6.5-inch OLED display; 128GB storage; Triple-lens camera; 5G connectivity\\\\nI recommend this product because it is a high-end smartphone with advanced features.\\\\n\\\\nProduct Name: Smartphone\\\\nPrice: 165.03\\\\nRating: 3.8\\\\nDescription: 6.5-inch OLED display; 128GB storage; Triple-lens camera; 5G connectivity\\\\nI recommend this product because it is another smartphone option with similar specifications.\\\\n\\\\nProduct Name: Smartwatch\\\\nPrice: 213.87\\\\nRating: 4.8\\\\nDescription: Heart rate monitor; GPS tracking; AMOLED display; 7-day battery life\\\\nI recommend this product because it is a highly-rated smartwatch with advanced health and fitness features.\\\\n\\\\nProduct Name: Wireless Earbuds\\\\nPrice: 244.95\\\\nRating: 4.2\\\\nDescription: Noise cancellation; Touch controls; 24-hour battery with case; Bluetooth 5.2\\\\nI recommend this product because it is a high-quality audio device with advanced features.\", additional_kwargs={}, response_metadata={}), HumanMessage(content=\\'What is the color of this laptop by the way?\\', additional_kwargs={}, response_metadata={}), AIMessage(content=\\'I am looking for the color of a laptop\\', additional_kwargs={}, response_metadata={}), HumanMessage(content=\\'Can you tell about the the features of this laptop?\\', additional_kwargs={}, response_metadata={}), AIMessage(content=\"Product Name: Laptop\\\\nPrice: 165.93\\\\nRating: 4.2\\\\nDescription: Intel i7 processor; 16GB RAM; 512GB SSD; 15.6-inch FHD screen\\\\nI recommend this product because it matches the user\\'s query for a laptop and its features are being inquired about.\\\\n\\\\nProduct Name: Laptop\\\\nPrice: 408.08\\\\nRating: 4.8\\\\nDescription: Intel i7 processor; 16GB RAM; 512GB SSD; 15.6-inch FHD screen\\\\nI recommend this product because it is a laptop option with high ratings and similar features.\\\\n\\\\nProduct Name: Laptop\\\\nPrice: 553.46\\\\nRating: 3.6\\\\nDescription: Intel i7 processor; 16GB RAM; 512GB SSD; 15.6-inch FHD screen\\\\nI recommend this product because it is another laptop option with similar features.\\\\n\\\\nProduct Name: Laptop\\\\nPrice: 621.59\\\\nRating: 4.1\\\\nDescription: Intel i7 processor; 16GB RAM; 512GB SSD; 15.6-inch FHD screen\\\\nI recommend this product because it is a laptop option with similar features and a relatively high rating.\\\\n\\\\nProduct Name: Laptop\\\\nPrice: 710.99\\\\nRating: 3.1\\\\nDescription: Intel i7 processor; 16GB RAM; 512GB SSD; 15.6-inch FHD screen\\\\nI recommend this product because it is a laptop option with similar features, although with a lower rating.\", additional_kwargs={}, response_metadata={}), HumanMessage(content=\\'\\\\n\\\\nCurrent User Query:\\\\n\\\\nSo what have we discussed so far?\\\\n\\\\n\\', additional_kwargs={}, response_metadata={})].')\n"
          ]
        },
        {
          "output_type": "stream",
          "name": "stdout",
          "text": [
            "Established SQLite Database connection: sqlite:///conversation_history.db\n",
            "Established SQLite Database connection: sqlite:///conversation_history.db\n"
          ]
        },
        {
          "output_type": "display_data",
          "data": {
            "text/plain": [
              "You've asked what you've discussed so far, which seems like a generic query. I'm here to help with any questions or\n",
              "recommendations you might need regarding our products. How can I assist you today?                                 \n"
            ],
            "text/html": [
              "<pre style=\"white-space:pre;overflow-x:auto;line-height:normal;font-family:Menlo,'DejaVu Sans Mono',consolas,'Courier New',monospace\">You've asked what you've discussed so far, which seems like a generic query. I'm here to help with any questions or\n",
              "recommendations you might need regarding our products. How can I assist you today?                                 \n",
              "</pre>\n"
            ]
          },
          "metadata": {}
        }
      ]
    },
    {
      "cell_type": "code",
      "source": [
        "user_id = '0001'\n",
        "\n",
        "customer_prompt = 'Who are you and what do you do?'\n",
        "\n",
        "chat_with_e_commerce_agent(customer_prompt, user_id)"
      ],
      "metadata": {
        "colab": {
          "base_uri": "https://localhost:8080/",
          "height": 121
        },
        "id": "HHLXIgLQKb3n",
        "outputId": "67dae38f-f0f7-48f0-8f3e-4200a3a6d4c5"
      },
      "execution_count": 45,
      "outputs": [
        {
          "output_type": "stream",
          "name": "stderr",
          "text": [
            "WARNING:langchain_core.callbacks.manager:Error in RootListenersTracer.on_chain_end callback: ValueError('Expected str, BaseMessage, list[BaseMessage], or tuple[BaseMessage]. Got messages=[SystemMessage(content=\\'\\\\n\\\\nYou are an ecommerce product expert. Your task is to carefully analyze the given conversation history\\\\n\\\\nand the current user query and rephrase the current user query to a standalone query which can be used without the history for making search queries.\\\\n\\\\nHowever rephrase only if needed. Strictly and only and only return the query and do not answer it.\\\\n\\\\n\\', additional_kwargs={}, response_metadata={}), HumanMessage(content=\\'I am looking for a laptop\\', additional_kwargs={}, response_metadata={}), AIMessage(content=\"Product Name: Laptop\\\\nPrice: 408.08\\\\nRating: 4.8\\\\nDescription: Intel i7 processor; 16GB RAM; 512GB SSD; 15.6-inch FHD screen\\\\nI recommend this product because it matches the user\\'s query for a laptop and has a high rating of 4.8, indicating good performance and customer satisfaction.\\\\n\\\\nProduct Name: Laptop\\\\nPrice: 621.59\\\\nRating: 4.1\\\\nDescription: Intel i7 processor; 16GB RAM; 512GB SSD; 15.6-inch FHD screen\\\\nI recommend this product because it is another laptop option with similar specifications, although with a lower rating of 4.1.\\\\n\\\\nProduct Name: Laptop\\\\nPrice: 710.99\\\\nRating: 3.1\\\\nDescription: Intel i7 processor; 16GB RAM; 512GB SSD; 15.6-inch FHD screen\\\\nI recommend this product because it is a laptop option, but with a lower rating of 3.1, it may not be as highly rated as other options.\\\\n\\\\nProduct Name: Laptop\\\\nPrice: 553.46\\\\nRating: 3.6\\\\nDescription: Intel i7 processor; 16GB RAM; 512GB SSD; 15.6-inch FHD screen\\\\nI recommend this product because it is another laptop option with a rating of 3.6, which is relatively average.\\\\n\\\\nProduct Name: Laptop\\\\nPrice: 1015.98\\\\nRating: 3.8\\\\nDescription: Intel i7 processor; 16GB RAM; 512GB SSD; 15.6-inch FHD screen\\\\nI recommend this product because it is a higher-priced laptop option with a rating of 3.8, which may indicate better performance and features.\", additional_kwargs={}, response_metadata={}), HumanMessage(content=\\'I am looking for a laptop\\', additional_kwargs={}, response_metadata={}), AIMessage(content=\"Product Name: Laptop\\\\nPrice: 408.08\\\\nRating: 4.8\\\\nDescription: Intel i7 processor; 16GB RAM; 512GB SSD; 15.6-inch FHD screen\\\\nI recommend this product because it matches the user\\'s query for a laptop and has a high rating of 4.8, indicating good performance and customer satisfaction.\\\\n\\\\nProduct Name: Laptop\\\\nPrice: 621.59\\\\nRating: 4.1\\\\nDescription: Intel i7 processor; 16GB RAM; 512GB SSD; 15.6-inch FHD screen\\\\nI recommend this product because it is another laptop option with similar specifications, although with a lower rating of 4.1.\\\\n\\\\nProduct Name: Laptop\\\\nPrice: 710.99\\\\nRating: 3.1\\\\nDescription: Intel i7 processor; 16GB RAM; 512GB SSD; 15.6-inch FHD screen\\\\nI recommend this product because it is a laptop option, but with a lower rating of 3.1, it may not be as highly rated as other options.\\\\n\\\\nProduct Name: Laptop\\\\nPrice: 553.46\\\\nRating: 3.6\\\\nDescription: Intel i7 processor; 16GB RAM; 512GB SSD; 15.6-inch FHD screen\\\\nI recommend this product because it is another laptop option with a rating of 3.6, which is relatively average.\\\\n\\\\nProduct Name: Laptop\\\\nPrice: 1015.98\\\\nRating: 3.8\\\\nDescription: Intel i7 processor; 16GB RAM; 512GB SSD; 15.6-inch FHD screen\\\\nI recommend this product because it is a higher-priced laptop option with a rating of 3.8, which may indicate better performance and features.\", additional_kwargs={}, response_metadata={}), HumanMessage(content=\\'I want in the range 150 - 300\\', additional_kwargs={}, response_metadata={}), AIMessage(content=\"Product Name: Laptop\\\\nPrice: 165.93\\\\nRating: 4.2\\\\nDescription: Intel i7 processor; 16GB RAM; 512GB SSD; 15.6-inch FHD screen\\\\nI recommend this product because it matches the user\\'s query for a laptop and falls within the specified price range of 150-300. \\\\n\\\\nSince there is only one laptop in the given price range, I will recommend four more random products from the table:\\\\n\\\\nProduct Name: Smartphone\\\\nPrice: 190.5\\\\nRating: 3.9\\\\nDescription: 6.5-inch OLED display; 128GB storage; Triple-lens camera; 5G connectivity\\\\nI recommend this product because it is a high-end smartphone with advanced features.\\\\n\\\\nProduct Name: Smartphone\\\\nPrice: 165.03\\\\nRating: 3.8\\\\nDescription: 6.5-inch OLED display; 128GB storage; Triple-lens camera; 5G connectivity\\\\nI recommend this product because it is another smartphone option with similar specifications.\\\\n\\\\nProduct Name: Smartwatch\\\\nPrice: 213.87\\\\nRating: 4.8\\\\nDescription: Heart rate monitor; GPS tracking; AMOLED display; 7-day battery life\\\\nI recommend this product because it is a highly-rated smartwatch with advanced health and fitness features.\\\\n\\\\nProduct Name: Wireless Earbuds\\\\nPrice: 244.95\\\\nRating: 4.2\\\\nDescription: Noise cancellation; Touch controls; 24-hour battery with case; Bluetooth 5.2\\\\nI recommend this product because it is a high-quality audio device with advanced features.\", additional_kwargs={}, response_metadata={}), HumanMessage(content=\\'What is the color of this laptop by the way?\\', additional_kwargs={}, response_metadata={}), AIMessage(content=\\'I am looking for the color of a laptop\\', additional_kwargs={}, response_metadata={}), HumanMessage(content=\\'Can you tell about the the features of this laptop?\\', additional_kwargs={}, response_metadata={}), AIMessage(content=\"Product Name: Laptop\\\\nPrice: 165.93\\\\nRating: 4.2\\\\nDescription: Intel i7 processor; 16GB RAM; 512GB SSD; 15.6-inch FHD screen\\\\nI recommend this product because it matches the user\\'s query for a laptop and its features are being inquired about.\\\\n\\\\nProduct Name: Laptop\\\\nPrice: 408.08\\\\nRating: 4.8\\\\nDescription: Intel i7 processor; 16GB RAM; 512GB SSD; 15.6-inch FHD screen\\\\nI recommend this product because it is a laptop option with high ratings and similar features.\\\\n\\\\nProduct Name: Laptop\\\\nPrice: 553.46\\\\nRating: 3.6\\\\nDescription: Intel i7 processor; 16GB RAM; 512GB SSD; 15.6-inch FHD screen\\\\nI recommend this product because it is another laptop option with similar features.\\\\n\\\\nProduct Name: Laptop\\\\nPrice: 621.59\\\\nRating: 4.1\\\\nDescription: Intel i7 processor; 16GB RAM; 512GB SSD; 15.6-inch FHD screen\\\\nI recommend this product because it is a laptop option with similar features and a relatively high rating.\\\\n\\\\nProduct Name: Laptop\\\\nPrice: 710.99\\\\nRating: 3.1\\\\nDescription: Intel i7 processor; 16GB RAM; 512GB SSD; 15.6-inch FHD screen\\\\nI recommend this product because it is a laptop option with similar features, although with a lower rating.\", additional_kwargs={}, response_metadata={}), HumanMessage(content=\\'So what have we discussed so far?\\', additional_kwargs={}, response_metadata={}), AIMessage(content=\"You\\'ve asked what you\\'ve discussed so far, which seems like a generic query. I\\'m here to help with any questions or recommendations you might need regarding our products. How can I assist you today?\", additional_kwargs={}, response_metadata={}), HumanMessage(content=\\'\\\\n\\\\nCurrent User Query:\\\\n\\\\nWho are you and what do you do?\\\\n\\\\n\\', additional_kwargs={}, response_metadata={})].')\n"
          ]
        },
        {
          "output_type": "stream",
          "name": "stdout",
          "text": [
            "Established SQLite Database connection: sqlite:///conversation_history.db\n",
            "Established SQLite Database connection: sqlite:///conversation_history.db\n"
          ]
        },
        {
          "output_type": "display_data",
          "data": {
            "text/plain": [
              "You've asked a generic query about who I am and what I do. I'm here to help with any questions or recommendations  \n",
              "you might need regarding our products. How can I assist you today?                                                 \n"
            ],
            "text/html": [
              "<pre style=\"white-space:pre;overflow-x:auto;line-height:normal;font-family:Menlo,'DejaVu Sans Mono',consolas,'Courier New',monospace\">You've asked a generic query about who I am and what I do. I'm here to help with any questions or recommendations  \n",
              "you might need regarding our products. How can I assist you today?                                                 \n",
              "</pre>\n"
            ]
          },
          "metadata": {}
        }
      ]
    },
    {
      "cell_type": "code",
      "source": [],
      "metadata": {
        "id": "bvZWeD1ZK35h"
      },
      "execution_count": null,
      "outputs": []
    }
  ]
}